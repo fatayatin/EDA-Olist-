{
 "cells": [
  {
   "cell_type": "code",
   "execution_count": 3,
   "id": "f2709113",
   "metadata": {},
   "outputs": [],
   "source": [
    "import pandas as pd\n",
    "import numpy as np\n",
    "import matplotlib.pyplot as plt\n",
    "import seaborn as sns"
   ]
  },
  {
   "cell_type": "markdown",
   "id": "8f41b990",
   "metadata": {},
   "source": [
    "### 1. Introduction"
   ]
  },
  {
   "cell_type": "markdown",
   "id": "d04dcbf7",
   "metadata": {},
   "source": [
    "Di Brazil, online shopping menjadi salah satu kebiasaan yang berkembang dengan cepat. Menurut Valor Capital Group, online seller di Brazil menghadapi beban operasional yang harus diintegrasikan secara manual pada berbagai marketplace sehingga Olist hadir untuk memecahkan masalah tersebut. Olist merupakan sebuah startup yang berdiri pada tahun 2015 dan berhasil menjadi unicorn pada tahun 2021 setelah mendapat investasi sebesar USD 186 juta (Valor Capital Group). Bila dilihat dari website Olist perusahaan ini memiliki 4 produk yang ditawarkan, salah satunya adalah Olist Store yang bergerak di bidang e-commerce dan menjadi subjek yang akan dibahas. Dilansir dari website PitchBook, platform Olist menghubungkan pengusaha dengan online seller dan memberi akses kepada penjual untuk mengiklankan dan menjual di marketplaces tanpa masalah, serta memungkinkan perusahaan retail untuk menjangkau marketplaces internasional.\n",
    "\n",
    "Olist menyediakan layanan operasional menyeluruh kepada merchants dengan mengelola katalog produk, inventaris, harga, fulfillment, layanan customer, dan pembayaran dalam satu tempat. Penjual hanya perlu menginput produk-produk yang akan dijual sekali saja pada Olist Store yang kemudian akan diintegrasikan oleh Olist ke berbagai e-commerce lain.\n",
    "\n",
    "Berdasarkan website Similarweb Olist Store (salah satu produk Olist) berada pada peringkat 43 untuk kategori e-commerce di Brazil. Pada dasarnya masyarakat akan lebih mengenal nama-nama perusahaan yang masuk kategori kelas atas. Mengingat Olist Store ada di peringkat 43, Olist Store perlu \"merangkak\" naik supaya masyarakat bisa mengenal Olist Store lebih dalam. Peringkat tersebut juga tergolong rendah untuk perusahaan sekelas Olist yang sudah mendapat status sebagai unicorn. Menurut Think With Google, masyarakat di Brazil menjadikan free shipping, discounts and promotions, dan lower prices sebagai tiga elemen utama yang memengaruhi keputusan berbelanja mereka. Namun, juga terdapat masyarakat yang tidak terlalu memedulikan ketiga elemen tersebut sebagai pertimbangan ketika berbelanja. Oleh karena itu, Olist Store membutuhkan segmentasi pasar berdasarkan ketiga elemen tersebut sehingga marketing akan lebih tepat sasaran dan akan lebih banyak customer yang melakukan transaksi di Olist Store. Hal ini diharapkan dapat membantu Olist Store mendapatkan peringkat yang lebih baik dan lebih banyak masyakarat yang berbelanja di Olist store. Semakin banyak pembeli, maka profit yang akan didapat Olist Store akan semakin tinggi."
   ]
  },
  {
   "cell_type": "markdown",
   "id": "d33d2eb5",
   "metadata": {},
   "source": [
    "### Data Understanding\n",
    "### Data Info\n",
    "\n",
    "Data ini dibuat oleh Olist dan berisikan informasi customer, seller, product, order, review, dan geolocation dari Olist Store di Brazil mulai tahun 2016 hingga 2018\n",
    "\n",
    "### Data Source\n",
    "\n",
    "https://www.kaggle.com/datasets/olistbr/brazilian-ecommerce?select=olist_products_dataset.csv"
   ]
  },
  {
   "cell_type": "markdown",
   "id": "adf4304f",
   "metadata": {},
   "source": [
    "### 2.1 Customers Dataset\n",
    "Dataset ini memiliki informasi mengenai customers dan lokasinya. Dataset ini digunakan untuk mengidentifikasi unique customers pada dataset orders dan untuk mendapatkan orders delivery location-nya.\n",
    "\n",
    "Pada sistem kami, masing-masing order memiliki unique customer ID. Ini artinya customer yang sama akan mendapatkan ID yang berbeda untuk setiap order yang dibuat. Tujuan dari adanya customer_unique_id adalah untuk mengidentifikasi customer yang melakukan pembelanjaan berulang-ulang. Bila tidak ada, setiap order seperti dilakukan oleh pembeli yang berbeda-beda."
   ]
  },
  {
   "cell_type": "code",
   "execution_count": 4,
   "id": "f2169ec2",
   "metadata": {},
   "outputs": [
    {
     "data": {
      "text/html": [
       "<div>\n",
       "<style scoped>\n",
       "    .dataframe tbody tr th:only-of-type {\n",
       "        vertical-align: middle;\n",
       "    }\n",
       "\n",
       "    .dataframe tbody tr th {\n",
       "        vertical-align: top;\n",
       "    }\n",
       "\n",
       "    .dataframe thead th {\n",
       "        text-align: right;\n",
       "    }\n",
       "</style>\n",
       "<table border=\"1\" class=\"dataframe\">\n",
       "  <thead>\n",
       "    <tr style=\"text-align: right;\">\n",
       "      <th></th>\n",
       "      <th>customer_id</th>\n",
       "      <th>customer_unique_id</th>\n",
       "      <th>customer_zip_code_prefix</th>\n",
       "      <th>customer_city</th>\n",
       "      <th>customer_state</th>\n",
       "    </tr>\n",
       "  </thead>\n",
       "  <tbody>\n",
       "    <tr>\n",
       "      <th>0</th>\n",
       "      <td>06b8999e2fba1a1fbc88172c00ba8bc7</td>\n",
       "      <td>861eff4711a542e4b93843c6dd7febb0</td>\n",
       "      <td>14409</td>\n",
       "      <td>franca</td>\n",
       "      <td>SP</td>\n",
       "    </tr>\n",
       "    <tr>\n",
       "      <th>1</th>\n",
       "      <td>18955e83d337fd6b2def6b18a428ac77</td>\n",
       "      <td>290c77bc529b7ac935b93aa66c333dc3</td>\n",
       "      <td>9790</td>\n",
       "      <td>sao bernardo do campo</td>\n",
       "      <td>SP</td>\n",
       "    </tr>\n",
       "    <tr>\n",
       "      <th>2</th>\n",
       "      <td>4e7b3e00288586ebd08712fdd0374a03</td>\n",
       "      <td>060e732b5b29e8181a18229c7b0b2b5e</td>\n",
       "      <td>1151</td>\n",
       "      <td>sao paulo</td>\n",
       "      <td>SP</td>\n",
       "    </tr>\n",
       "    <tr>\n",
       "      <th>3</th>\n",
       "      <td>b2b6027bc5c5109e529d4dc6358b12c3</td>\n",
       "      <td>259dac757896d24d7702b9acbbff3f3c</td>\n",
       "      <td>8775</td>\n",
       "      <td>mogi das cruzes</td>\n",
       "      <td>SP</td>\n",
       "    </tr>\n",
       "    <tr>\n",
       "      <th>4</th>\n",
       "      <td>4f2d8ab171c80ec8364f7c12e35b23ad</td>\n",
       "      <td>345ecd01c38d18a9036ed96c73b8d066</td>\n",
       "      <td>13056</td>\n",
       "      <td>campinas</td>\n",
       "      <td>SP</td>\n",
       "    </tr>\n",
       "  </tbody>\n",
       "</table>\n",
       "</div>"
      ],
      "text/plain": [
       "                        customer_id                customer_unique_id  \\\n",
       "0  06b8999e2fba1a1fbc88172c00ba8bc7  861eff4711a542e4b93843c6dd7febb0   \n",
       "1  18955e83d337fd6b2def6b18a428ac77  290c77bc529b7ac935b93aa66c333dc3   \n",
       "2  4e7b3e00288586ebd08712fdd0374a03  060e732b5b29e8181a18229c7b0b2b5e   \n",
       "3  b2b6027bc5c5109e529d4dc6358b12c3  259dac757896d24d7702b9acbbff3f3c   \n",
       "4  4f2d8ab171c80ec8364f7c12e35b23ad  345ecd01c38d18a9036ed96c73b8d066   \n",
       "\n",
       "   customer_zip_code_prefix          customer_city customer_state  \n",
       "0                     14409                 franca             SP  \n",
       "1                      9790  sao bernardo do campo             SP  \n",
       "2                      1151              sao paulo             SP  \n",
       "3                      8775        mogi das cruzes             SP  \n",
       "4                     13056               campinas             SP  "
      ]
     },
     "execution_count": 4,
     "metadata": {},
     "output_type": "execute_result"
    }
   ],
   "source": [
    "df_customers = pd.read_csv(\"olist_customers_dataset.csv\")\n",
    "df_customers.head()"
   ]
  },
  {
   "cell_type": "code",
   "execution_count": 5,
   "id": "958b8236",
   "metadata": {},
   "outputs": [
    {
     "name": "stdout",
     "output_type": "stream",
     "text": [
      "<class 'pandas.core.frame.DataFrame'>\n",
      "RangeIndex: 99441 entries, 0 to 99440\n",
      "Data columns (total 5 columns):\n",
      " #   Column                    Non-Null Count  Dtype \n",
      "---  ------                    --------------  ----- \n",
      " 0   customer_id               99441 non-null  object\n",
      " 1   customer_unique_id        99441 non-null  object\n",
      " 2   customer_zip_code_prefix  99441 non-null  int64 \n",
      " 3   customer_city             99441 non-null  object\n",
      " 4   customer_state            99441 non-null  object\n",
      "dtypes: int64(1), object(4)\n",
      "memory usage: 3.8+ MB\n"
     ]
    }
   ],
   "source": [
    "df_customers.info()"
   ]
  },
  {
   "cell_type": "markdown",
   "id": "503951be",
   "metadata": {},
   "source": [
    "### 2.2 Geolocation Dataset\n",
    "Dataset ini memiliki informasi mengenai kodepos di Brazil beserta koordinat latitude dan longitude-nya. Dataset ini digunakan untuk mem-plot peta dan menemukan jarak antara penjual dan pembeli."
   ]
  },
  {
   "cell_type": "code",
   "execution_count": 6,
   "id": "4ebea0d3",
   "metadata": {},
   "outputs": [
    {
     "data": {
      "text/html": [
       "<div>\n",
       "<style scoped>\n",
       "    .dataframe tbody tr th:only-of-type {\n",
       "        vertical-align: middle;\n",
       "    }\n",
       "\n",
       "    .dataframe tbody tr th {\n",
       "        vertical-align: top;\n",
       "    }\n",
       "\n",
       "    .dataframe thead th {\n",
       "        text-align: right;\n",
       "    }\n",
       "</style>\n",
       "<table border=\"1\" class=\"dataframe\">\n",
       "  <thead>\n",
       "    <tr style=\"text-align: right;\">\n",
       "      <th></th>\n",
       "      <th>geolocation_zip_code_prefix</th>\n",
       "      <th>geolocation_lat</th>\n",
       "      <th>geolocation_lng</th>\n",
       "      <th>geolocation_city</th>\n",
       "      <th>geolocation_state</th>\n",
       "    </tr>\n",
       "  </thead>\n",
       "  <tbody>\n",
       "    <tr>\n",
       "      <th>0</th>\n",
       "      <td>1037</td>\n",
       "      <td>-23.545621</td>\n",
       "      <td>-46.639292</td>\n",
       "      <td>sao paulo</td>\n",
       "      <td>SP</td>\n",
       "    </tr>\n",
       "    <tr>\n",
       "      <th>1</th>\n",
       "      <td>1046</td>\n",
       "      <td>-23.546081</td>\n",
       "      <td>-46.644820</td>\n",
       "      <td>sao paulo</td>\n",
       "      <td>SP</td>\n",
       "    </tr>\n",
       "    <tr>\n",
       "      <th>2</th>\n",
       "      <td>1046</td>\n",
       "      <td>-23.546129</td>\n",
       "      <td>-46.642951</td>\n",
       "      <td>sao paulo</td>\n",
       "      <td>SP</td>\n",
       "    </tr>\n",
       "    <tr>\n",
       "      <th>3</th>\n",
       "      <td>1041</td>\n",
       "      <td>-23.544392</td>\n",
       "      <td>-46.639499</td>\n",
       "      <td>sao paulo</td>\n",
       "      <td>SP</td>\n",
       "    </tr>\n",
       "    <tr>\n",
       "      <th>4</th>\n",
       "      <td>1035</td>\n",
       "      <td>-23.541578</td>\n",
       "      <td>-46.641607</td>\n",
       "      <td>sao paulo</td>\n",
       "      <td>SP</td>\n",
       "    </tr>\n",
       "  </tbody>\n",
       "</table>\n",
       "</div>"
      ],
      "text/plain": [
       "   geolocation_zip_code_prefix  geolocation_lat  geolocation_lng  \\\n",
       "0                         1037       -23.545621       -46.639292   \n",
       "1                         1046       -23.546081       -46.644820   \n",
       "2                         1046       -23.546129       -46.642951   \n",
       "3                         1041       -23.544392       -46.639499   \n",
       "4                         1035       -23.541578       -46.641607   \n",
       "\n",
       "  geolocation_city geolocation_state  \n",
       "0        sao paulo                SP  \n",
       "1        sao paulo                SP  \n",
       "2        sao paulo                SP  \n",
       "3        sao paulo                SP  \n",
       "4        sao paulo                SP  "
      ]
     },
     "execution_count": 6,
     "metadata": {},
     "output_type": "execute_result"
    }
   ],
   "source": [
    "df_geolocation = pd.read_csv(\"olist_geolocation_dataset.csv\")\n",
    "df_geolocation.head()"
   ]
  },
  {
   "cell_type": "code",
   "execution_count": 7,
   "id": "544a1a44",
   "metadata": {},
   "outputs": [
    {
     "name": "stdout",
     "output_type": "stream",
     "text": [
      "<class 'pandas.core.frame.DataFrame'>\n",
      "RangeIndex: 1000163 entries, 0 to 1000162\n",
      "Data columns (total 5 columns):\n",
      " #   Column                       Non-Null Count    Dtype  \n",
      "---  ------                       --------------    -----  \n",
      " 0   geolocation_zip_code_prefix  1000163 non-null  int64  \n",
      " 1   geolocation_lat              1000163 non-null  float64\n",
      " 2   geolocation_lng              1000163 non-null  float64\n",
      " 3   geolocation_city             1000163 non-null  object \n",
      " 4   geolocation_state            1000163 non-null  object \n",
      "dtypes: float64(2), int64(1), object(2)\n",
      "memory usage: 38.2+ MB\n"
     ]
    }
   ],
   "source": [
    "df_geolocation.info()"
   ]
  },
  {
   "cell_type": "markdown",
   "id": "7165f650",
   "metadata": {},
   "source": [
    "### 2.3 Order Items Dataset\n",
    "Dataset ini memiliki informasi mengenai items yang dibeli dalam setiap pesanan.\n",
    "\n",
    "Contoh:\n",
    "\n",
    "order_id 00143d0f86d6fbd9f9b38ab440ac16f5 memiliki 3 items (produk yang sama). Setiap item memiliki ongkos kirim yang dihitung berdasarkan dimensi dan beratnya. Untuk mendapatkan total ongkos kirim dari setiap order hanya perlu dijumlahkan.\n",
    "\n",
    "Nilai total order_item: 21.33 * 3 = 63.99\n",
    "\n",
    "Nilai total ongkos kirim: 15.10 * 3 = 45.30\n",
    "\n",
    "Nilai total order (produk + ongkos kirim): 45.30 + 63.99 = 109.29"
   ]
  },
  {
   "cell_type": "code",
   "execution_count": 8,
   "id": "0973e7a9",
   "metadata": {},
   "outputs": [
    {
     "data": {
      "text/html": [
       "<div>\n",
       "<style scoped>\n",
       "    .dataframe tbody tr th:only-of-type {\n",
       "        vertical-align: middle;\n",
       "    }\n",
       "\n",
       "    .dataframe tbody tr th {\n",
       "        vertical-align: top;\n",
       "    }\n",
       "\n",
       "    .dataframe thead th {\n",
       "        text-align: right;\n",
       "    }\n",
       "</style>\n",
       "<table border=\"1\" class=\"dataframe\">\n",
       "  <thead>\n",
       "    <tr style=\"text-align: right;\">\n",
       "      <th></th>\n",
       "      <th>order_id</th>\n",
       "      <th>order_item_id</th>\n",
       "      <th>product_id</th>\n",
       "      <th>seller_id</th>\n",
       "      <th>shipping_limit_date</th>\n",
       "      <th>price</th>\n",
       "      <th>freight_value</th>\n",
       "    </tr>\n",
       "  </thead>\n",
       "  <tbody>\n",
       "    <tr>\n",
       "      <th>0</th>\n",
       "      <td>00010242fe8c5a6d1ba2dd792cb16214</td>\n",
       "      <td>1</td>\n",
       "      <td>4244733e06e7ecb4970a6e2683c13e61</td>\n",
       "      <td>48436dade18ac8b2bce089ec2a041202</td>\n",
       "      <td>2017-09-19 09:45:35</td>\n",
       "      <td>58.90</td>\n",
       "      <td>13.29</td>\n",
       "    </tr>\n",
       "    <tr>\n",
       "      <th>1</th>\n",
       "      <td>00018f77f2f0320c557190d7a144bdd3</td>\n",
       "      <td>1</td>\n",
       "      <td>e5f2d52b802189ee658865ca93d83a8f</td>\n",
       "      <td>dd7ddc04e1b6c2c614352b383efe2d36</td>\n",
       "      <td>2017-05-03 11:05:13</td>\n",
       "      <td>239.90</td>\n",
       "      <td>19.93</td>\n",
       "    </tr>\n",
       "    <tr>\n",
       "      <th>2</th>\n",
       "      <td>000229ec398224ef6ca0657da4fc703e</td>\n",
       "      <td>1</td>\n",
       "      <td>c777355d18b72b67abbeef9df44fd0fd</td>\n",
       "      <td>5b51032eddd242adc84c38acab88f23d</td>\n",
       "      <td>2018-01-18 14:48:30</td>\n",
       "      <td>199.00</td>\n",
       "      <td>17.87</td>\n",
       "    </tr>\n",
       "    <tr>\n",
       "      <th>3</th>\n",
       "      <td>00024acbcdf0a6daa1e931b038114c75</td>\n",
       "      <td>1</td>\n",
       "      <td>7634da152a4610f1595efa32f14722fc</td>\n",
       "      <td>9d7a1d34a5052409006425275ba1c2b4</td>\n",
       "      <td>2018-08-15 10:10:18</td>\n",
       "      <td>12.99</td>\n",
       "      <td>12.79</td>\n",
       "    </tr>\n",
       "    <tr>\n",
       "      <th>4</th>\n",
       "      <td>00042b26cf59d7ce69dfabb4e55b4fd9</td>\n",
       "      <td>1</td>\n",
       "      <td>ac6c3623068f30de03045865e4e10089</td>\n",
       "      <td>df560393f3a51e74553ab94004ba5c87</td>\n",
       "      <td>2017-02-13 13:57:51</td>\n",
       "      <td>199.90</td>\n",
       "      <td>18.14</td>\n",
       "    </tr>\n",
       "  </tbody>\n",
       "</table>\n",
       "</div>"
      ],
      "text/plain": [
       "                           order_id  order_item_id  \\\n",
       "0  00010242fe8c5a6d1ba2dd792cb16214              1   \n",
       "1  00018f77f2f0320c557190d7a144bdd3              1   \n",
       "2  000229ec398224ef6ca0657da4fc703e              1   \n",
       "3  00024acbcdf0a6daa1e931b038114c75              1   \n",
       "4  00042b26cf59d7ce69dfabb4e55b4fd9              1   \n",
       "\n",
       "                         product_id                         seller_id  \\\n",
       "0  4244733e06e7ecb4970a6e2683c13e61  48436dade18ac8b2bce089ec2a041202   \n",
       "1  e5f2d52b802189ee658865ca93d83a8f  dd7ddc04e1b6c2c614352b383efe2d36   \n",
       "2  c777355d18b72b67abbeef9df44fd0fd  5b51032eddd242adc84c38acab88f23d   \n",
       "3  7634da152a4610f1595efa32f14722fc  9d7a1d34a5052409006425275ba1c2b4   \n",
       "4  ac6c3623068f30de03045865e4e10089  df560393f3a51e74553ab94004ba5c87   \n",
       "\n",
       "   shipping_limit_date   price  freight_value  \n",
       "0  2017-09-19 09:45:35   58.90          13.29  \n",
       "1  2017-05-03 11:05:13  239.90          19.93  \n",
       "2  2018-01-18 14:48:30  199.00          17.87  \n",
       "3  2018-08-15 10:10:18   12.99          12.79  \n",
       "4  2017-02-13 13:57:51  199.90          18.14  "
      ]
     },
     "execution_count": 8,
     "metadata": {},
     "output_type": "execute_result"
    }
   ],
   "source": [
    "df_orderitems = pd.read_csv(\"olist_order_items_dataset.csv\")\n",
    "df_orderitems.head()"
   ]
  },
  {
   "cell_type": "code",
   "execution_count": 9,
   "id": "50c000b7",
   "metadata": {},
   "outputs": [
    {
     "name": "stdout",
     "output_type": "stream",
     "text": [
      "<class 'pandas.core.frame.DataFrame'>\n",
      "RangeIndex: 112650 entries, 0 to 112649\n",
      "Data columns (total 7 columns):\n",
      " #   Column               Non-Null Count   Dtype  \n",
      "---  ------               --------------   -----  \n",
      " 0   order_id             112650 non-null  object \n",
      " 1   order_item_id        112650 non-null  int64  \n",
      " 2   product_id           112650 non-null  object \n",
      " 3   seller_id            112650 non-null  object \n",
      " 4   shipping_limit_date  112650 non-null  object \n",
      " 5   price                112650 non-null  float64\n",
      " 6   freight_value        112650 non-null  float64\n",
      "dtypes: float64(2), int64(1), object(4)\n",
      "memory usage: 6.0+ MB\n"
     ]
    }
   ],
   "source": [
    "df_orderitems.info()"
   ]
  },
  {
   "cell_type": "markdown",
   "id": "f6cf237e",
   "metadata": {},
   "source": [
    "### 2.4 Order Payment Dataset\n",
    "Dataset ini memiliki informasi mengenai metode pembayaran."
   ]
  },
  {
   "cell_type": "code",
   "execution_count": 10,
   "id": "de24cb12",
   "metadata": {},
   "outputs": [
    {
     "data": {
      "text/html": [
       "<div>\n",
       "<style scoped>\n",
       "    .dataframe tbody tr th:only-of-type {\n",
       "        vertical-align: middle;\n",
       "    }\n",
       "\n",
       "    .dataframe tbody tr th {\n",
       "        vertical-align: top;\n",
       "    }\n",
       "\n",
       "    .dataframe thead th {\n",
       "        text-align: right;\n",
       "    }\n",
       "</style>\n",
       "<table border=\"1\" class=\"dataframe\">\n",
       "  <thead>\n",
       "    <tr style=\"text-align: right;\">\n",
       "      <th></th>\n",
       "      <th>order_id</th>\n",
       "      <th>payment_sequential</th>\n",
       "      <th>payment_type</th>\n",
       "      <th>payment_installments</th>\n",
       "      <th>payment_value</th>\n",
       "    </tr>\n",
       "  </thead>\n",
       "  <tbody>\n",
       "    <tr>\n",
       "      <th>0</th>\n",
       "      <td>b81ef226f3fe1789b1e8b2acac839d17</td>\n",
       "      <td>1</td>\n",
       "      <td>credit_card</td>\n",
       "      <td>8</td>\n",
       "      <td>99.33</td>\n",
       "    </tr>\n",
       "    <tr>\n",
       "      <th>1</th>\n",
       "      <td>a9810da82917af2d9aefd1278f1dcfa0</td>\n",
       "      <td>1</td>\n",
       "      <td>credit_card</td>\n",
       "      <td>1</td>\n",
       "      <td>24.39</td>\n",
       "    </tr>\n",
       "    <tr>\n",
       "      <th>2</th>\n",
       "      <td>25e8ea4e93396b6fa0d3dd708e76c1bd</td>\n",
       "      <td>1</td>\n",
       "      <td>credit_card</td>\n",
       "      <td>1</td>\n",
       "      <td>65.71</td>\n",
       "    </tr>\n",
       "    <tr>\n",
       "      <th>3</th>\n",
       "      <td>ba78997921bbcdc1373bb41e913ab953</td>\n",
       "      <td>1</td>\n",
       "      <td>credit_card</td>\n",
       "      <td>8</td>\n",
       "      <td>107.78</td>\n",
       "    </tr>\n",
       "    <tr>\n",
       "      <th>4</th>\n",
       "      <td>42fdf880ba16b47b59251dd489d4441a</td>\n",
       "      <td>1</td>\n",
       "      <td>credit_card</td>\n",
       "      <td>2</td>\n",
       "      <td>128.45</td>\n",
       "    </tr>\n",
       "  </tbody>\n",
       "</table>\n",
       "</div>"
      ],
      "text/plain": [
       "                           order_id  payment_sequential payment_type  \\\n",
       "0  b81ef226f3fe1789b1e8b2acac839d17                   1  credit_card   \n",
       "1  a9810da82917af2d9aefd1278f1dcfa0                   1  credit_card   \n",
       "2  25e8ea4e93396b6fa0d3dd708e76c1bd                   1  credit_card   \n",
       "3  ba78997921bbcdc1373bb41e913ab953                   1  credit_card   \n",
       "4  42fdf880ba16b47b59251dd489d4441a                   1  credit_card   \n",
       "\n",
       "   payment_installments  payment_value  \n",
       "0                     8          99.33  \n",
       "1                     1          24.39  \n",
       "2                     1          65.71  \n",
       "3                     8         107.78  \n",
       "4                     2         128.45  "
      ]
     },
     "execution_count": 10,
     "metadata": {},
     "output_type": "execute_result"
    }
   ],
   "source": [
    "df_orderpayments = pd.read_csv(\"olist_order_payments_dataset.csv\")\n",
    "df_orderpayments.head()"
   ]
  },
  {
   "cell_type": "code",
   "execution_count": 11,
   "id": "4c27f80b",
   "metadata": {},
   "outputs": [
    {
     "name": "stdout",
     "output_type": "stream",
     "text": [
      "<class 'pandas.core.frame.DataFrame'>\n",
      "RangeIndex: 103886 entries, 0 to 103885\n",
      "Data columns (total 5 columns):\n",
      " #   Column                Non-Null Count   Dtype  \n",
      "---  ------                --------------   -----  \n",
      " 0   order_id              103886 non-null  object \n",
      " 1   payment_sequential    103886 non-null  int64  \n",
      " 2   payment_type          103886 non-null  object \n",
      " 3   payment_installments  103886 non-null  int64  \n",
      " 4   payment_value         103886 non-null  float64\n",
      "dtypes: float64(1), int64(2), object(2)\n",
      "memory usage: 4.0+ MB\n"
     ]
    }
   ],
   "source": [
    "df_orderpayments.info()"
   ]
  },
  {
   "cell_type": "markdown",
   "id": "dbe6b3b8",
   "metadata": {},
   "source": [
    "### 2.5 Order Reviews Dataset\n",
    "Dataset ini memiliki informasi mengenai review yang dibuat oleh customer.\n",
    "\n",
    "Setelah customer membeli produk dari Olist Store, penjual mendapatkan notifikasi untuk memenuhi order tersebut. Setelah customer menerima produk, atau tanggal estimasi pengiriman telah lewat, customer akan menerima survey kepuasan melalui email dimana mereka dapat memberikan catatan dan komentar mengenai pengalaman berbelanjanya."
   ]
  },
  {
   "cell_type": "code",
   "execution_count": 12,
   "id": "cdf76d7c",
   "metadata": {},
   "outputs": [
    {
     "data": {
      "text/html": [
       "<div>\n",
       "<style scoped>\n",
       "    .dataframe tbody tr th:only-of-type {\n",
       "        vertical-align: middle;\n",
       "    }\n",
       "\n",
       "    .dataframe tbody tr th {\n",
       "        vertical-align: top;\n",
       "    }\n",
       "\n",
       "    .dataframe thead th {\n",
       "        text-align: right;\n",
       "    }\n",
       "</style>\n",
       "<table border=\"1\" class=\"dataframe\">\n",
       "  <thead>\n",
       "    <tr style=\"text-align: right;\">\n",
       "      <th></th>\n",
       "      <th>review_id</th>\n",
       "      <th>order_id</th>\n",
       "      <th>review_score</th>\n",
       "      <th>review_comment_title</th>\n",
       "      <th>review_comment_message</th>\n",
       "      <th>review_creation_date</th>\n",
       "      <th>review_answer_timestamp</th>\n",
       "    </tr>\n",
       "  </thead>\n",
       "  <tbody>\n",
       "    <tr>\n",
       "      <th>0</th>\n",
       "      <td>7bc2406110b926393aa56f80a40eba40</td>\n",
       "      <td>73fc7af87114b39712e6da79b0a377eb</td>\n",
       "      <td>4</td>\n",
       "      <td>NaN</td>\n",
       "      <td>NaN</td>\n",
       "      <td>2018-01-18 00:00:00</td>\n",
       "      <td>2018-01-18 21:46:59</td>\n",
       "    </tr>\n",
       "    <tr>\n",
       "      <th>1</th>\n",
       "      <td>80e641a11e56f04c1ad469d5645fdfde</td>\n",
       "      <td>a548910a1c6147796b98fdf73dbeba33</td>\n",
       "      <td>5</td>\n",
       "      <td>NaN</td>\n",
       "      <td>NaN</td>\n",
       "      <td>2018-03-10 00:00:00</td>\n",
       "      <td>2018-03-11 03:05:13</td>\n",
       "    </tr>\n",
       "    <tr>\n",
       "      <th>2</th>\n",
       "      <td>228ce5500dc1d8e020d8d1322874b6f0</td>\n",
       "      <td>f9e4b658b201a9f2ecdecbb34bed034b</td>\n",
       "      <td>5</td>\n",
       "      <td>NaN</td>\n",
       "      <td>NaN</td>\n",
       "      <td>2018-02-17 00:00:00</td>\n",
       "      <td>2018-02-18 14:36:24</td>\n",
       "    </tr>\n",
       "    <tr>\n",
       "      <th>3</th>\n",
       "      <td>e64fb393e7b32834bb789ff8bb30750e</td>\n",
       "      <td>658677c97b385a9be170737859d3511b</td>\n",
       "      <td>5</td>\n",
       "      <td>NaN</td>\n",
       "      <td>Recebi bem antes do prazo estipulado.</td>\n",
       "      <td>2017-04-21 00:00:00</td>\n",
       "      <td>2017-04-21 22:02:06</td>\n",
       "    </tr>\n",
       "    <tr>\n",
       "      <th>4</th>\n",
       "      <td>f7c4243c7fe1938f181bec41a392bdeb</td>\n",
       "      <td>8e6bfb81e283fa7e4f11123a3fb894f1</td>\n",
       "      <td>5</td>\n",
       "      <td>NaN</td>\n",
       "      <td>Parabéns lojas lannister adorei comprar pela I...</td>\n",
       "      <td>2018-03-01 00:00:00</td>\n",
       "      <td>2018-03-02 10:26:53</td>\n",
       "    </tr>\n",
       "  </tbody>\n",
       "</table>\n",
       "</div>"
      ],
      "text/plain": [
       "                          review_id                          order_id  \\\n",
       "0  7bc2406110b926393aa56f80a40eba40  73fc7af87114b39712e6da79b0a377eb   \n",
       "1  80e641a11e56f04c1ad469d5645fdfde  a548910a1c6147796b98fdf73dbeba33   \n",
       "2  228ce5500dc1d8e020d8d1322874b6f0  f9e4b658b201a9f2ecdecbb34bed034b   \n",
       "3  e64fb393e7b32834bb789ff8bb30750e  658677c97b385a9be170737859d3511b   \n",
       "4  f7c4243c7fe1938f181bec41a392bdeb  8e6bfb81e283fa7e4f11123a3fb894f1   \n",
       "\n",
       "   review_score review_comment_title  \\\n",
       "0             4                  NaN   \n",
       "1             5                  NaN   \n",
       "2             5                  NaN   \n",
       "3             5                  NaN   \n",
       "4             5                  NaN   \n",
       "\n",
       "                              review_comment_message review_creation_date  \\\n",
       "0                                                NaN  2018-01-18 00:00:00   \n",
       "1                                                NaN  2018-03-10 00:00:00   \n",
       "2                                                NaN  2018-02-17 00:00:00   \n",
       "3              Recebi bem antes do prazo estipulado.  2017-04-21 00:00:00   \n",
       "4  Parabéns lojas lannister adorei comprar pela I...  2018-03-01 00:00:00   \n",
       "\n",
       "  review_answer_timestamp  \n",
       "0     2018-01-18 21:46:59  \n",
       "1     2018-03-11 03:05:13  \n",
       "2     2018-02-18 14:36:24  \n",
       "3     2017-04-21 22:02:06  \n",
       "4     2018-03-02 10:26:53  "
      ]
     },
     "execution_count": 12,
     "metadata": {},
     "output_type": "execute_result"
    }
   ],
   "source": [
    "df_orderreviews = pd.read_csv(\"olist_order_reviews_dataset.csv\")\n",
    "df_orderreviews.head()"
   ]
  },
  {
   "cell_type": "code",
   "execution_count": 13,
   "id": "db99b90a",
   "metadata": {},
   "outputs": [
    {
     "name": "stdout",
     "output_type": "stream",
     "text": [
      "<class 'pandas.core.frame.DataFrame'>\n",
      "RangeIndex: 99224 entries, 0 to 99223\n",
      "Data columns (total 7 columns):\n",
      " #   Column                   Non-Null Count  Dtype \n",
      "---  ------                   --------------  ----- \n",
      " 0   review_id                99224 non-null  object\n",
      " 1   order_id                 99224 non-null  object\n",
      " 2   review_score             99224 non-null  int64 \n",
      " 3   review_comment_title     11568 non-null  object\n",
      " 4   review_comment_message   40977 non-null  object\n",
      " 5   review_creation_date     99224 non-null  object\n",
      " 6   review_answer_timestamp  99224 non-null  object\n",
      "dtypes: int64(1), object(6)\n",
      "memory usage: 5.3+ MB\n"
     ]
    }
   ],
   "source": [
    "df_orderreviews.info()"
   ]
  },
  {
   "cell_type": "markdown",
   "id": "a6d48945",
   "metadata": {},
   "source": [
    "### 2.6 Orders Dataset\n",
    "Dataset ini merupakan dataset utama. Dataset ini memiliki informasi mengenai masing-masing order."
   ]
  },
  {
   "cell_type": "code",
   "execution_count": 15,
   "id": "a81b5bb9",
   "metadata": {},
   "outputs": [
    {
     "data": {
      "text/html": [
       "<div>\n",
       "<style scoped>\n",
       "    .dataframe tbody tr th:only-of-type {\n",
       "        vertical-align: middle;\n",
       "    }\n",
       "\n",
       "    .dataframe tbody tr th {\n",
       "        vertical-align: top;\n",
       "    }\n",
       "\n",
       "    .dataframe thead th {\n",
       "        text-align: right;\n",
       "    }\n",
       "</style>\n",
       "<table border=\"1\" class=\"dataframe\">\n",
       "  <thead>\n",
       "    <tr style=\"text-align: right;\">\n",
       "      <th></th>\n",
       "      <th>order_id</th>\n",
       "      <th>customer_id</th>\n",
       "      <th>order_status</th>\n",
       "      <th>order_purchase_timestamp</th>\n",
       "      <th>order_approved_at</th>\n",
       "      <th>order_delivered_carrier_date</th>\n",
       "      <th>order_delivered_customer_date</th>\n",
       "      <th>order_estimated_delivery_date</th>\n",
       "    </tr>\n",
       "  </thead>\n",
       "  <tbody>\n",
       "    <tr>\n",
       "      <th>0</th>\n",
       "      <td>e481f51cbdc54678b7cc49136f2d6af7</td>\n",
       "      <td>9ef432eb6251297304e76186b10a928d</td>\n",
       "      <td>delivered</td>\n",
       "      <td>2017-10-02 10:56:33</td>\n",
       "      <td>2017-10-02 11:07:15</td>\n",
       "      <td>2017-10-04 19:55:00</td>\n",
       "      <td>2017-10-10 21:25:13</td>\n",
       "      <td>2017-10-18 00:00:00</td>\n",
       "    </tr>\n",
       "    <tr>\n",
       "      <th>1</th>\n",
       "      <td>53cdb2fc8bc7dce0b6741e2150273451</td>\n",
       "      <td>b0830fb4747a6c6d20dea0b8c802d7ef</td>\n",
       "      <td>delivered</td>\n",
       "      <td>2018-07-24 20:41:37</td>\n",
       "      <td>2018-07-26 03:24:27</td>\n",
       "      <td>2018-07-26 14:31:00</td>\n",
       "      <td>2018-08-07 15:27:45</td>\n",
       "      <td>2018-08-13 00:00:00</td>\n",
       "    </tr>\n",
       "    <tr>\n",
       "      <th>2</th>\n",
       "      <td>47770eb9100c2d0c44946d9cf07ec65d</td>\n",
       "      <td>41ce2a54c0b03bf3443c3d931a367089</td>\n",
       "      <td>delivered</td>\n",
       "      <td>2018-08-08 08:38:49</td>\n",
       "      <td>2018-08-08 08:55:23</td>\n",
       "      <td>2018-08-08 13:50:00</td>\n",
       "      <td>2018-08-17 18:06:29</td>\n",
       "      <td>2018-09-04 00:00:00</td>\n",
       "    </tr>\n",
       "    <tr>\n",
       "      <th>3</th>\n",
       "      <td>949d5b44dbf5de918fe9c16f97b45f8a</td>\n",
       "      <td>f88197465ea7920adcdbec7375364d82</td>\n",
       "      <td>delivered</td>\n",
       "      <td>2017-11-18 19:28:06</td>\n",
       "      <td>2017-11-18 19:45:59</td>\n",
       "      <td>2017-11-22 13:39:59</td>\n",
       "      <td>2017-12-02 00:28:42</td>\n",
       "      <td>2017-12-15 00:00:00</td>\n",
       "    </tr>\n",
       "    <tr>\n",
       "      <th>4</th>\n",
       "      <td>ad21c59c0840e6cb83a9ceb5573f8159</td>\n",
       "      <td>8ab97904e6daea8866dbdbc4fb7aad2c</td>\n",
       "      <td>delivered</td>\n",
       "      <td>2018-02-13 21:18:39</td>\n",
       "      <td>2018-02-13 22:20:29</td>\n",
       "      <td>2018-02-14 19:46:34</td>\n",
       "      <td>2018-02-16 18:17:02</td>\n",
       "      <td>2018-02-26 00:00:00</td>\n",
       "    </tr>\n",
       "  </tbody>\n",
       "</table>\n",
       "</div>"
      ],
      "text/plain": [
       "                           order_id                       customer_id  \\\n",
       "0  e481f51cbdc54678b7cc49136f2d6af7  9ef432eb6251297304e76186b10a928d   \n",
       "1  53cdb2fc8bc7dce0b6741e2150273451  b0830fb4747a6c6d20dea0b8c802d7ef   \n",
       "2  47770eb9100c2d0c44946d9cf07ec65d  41ce2a54c0b03bf3443c3d931a367089   \n",
       "3  949d5b44dbf5de918fe9c16f97b45f8a  f88197465ea7920adcdbec7375364d82   \n",
       "4  ad21c59c0840e6cb83a9ceb5573f8159  8ab97904e6daea8866dbdbc4fb7aad2c   \n",
       "\n",
       "  order_status order_purchase_timestamp    order_approved_at  \\\n",
       "0    delivered      2017-10-02 10:56:33  2017-10-02 11:07:15   \n",
       "1    delivered      2018-07-24 20:41:37  2018-07-26 03:24:27   \n",
       "2    delivered      2018-08-08 08:38:49  2018-08-08 08:55:23   \n",
       "3    delivered      2017-11-18 19:28:06  2017-11-18 19:45:59   \n",
       "4    delivered      2018-02-13 21:18:39  2018-02-13 22:20:29   \n",
       "\n",
       "  order_delivered_carrier_date order_delivered_customer_date  \\\n",
       "0          2017-10-04 19:55:00           2017-10-10 21:25:13   \n",
       "1          2018-07-26 14:31:00           2018-08-07 15:27:45   \n",
       "2          2018-08-08 13:50:00           2018-08-17 18:06:29   \n",
       "3          2017-11-22 13:39:59           2017-12-02 00:28:42   \n",
       "4          2018-02-14 19:46:34           2018-02-16 18:17:02   \n",
       "\n",
       "  order_estimated_delivery_date  \n",
       "0           2017-10-18 00:00:00  \n",
       "1           2018-08-13 00:00:00  \n",
       "2           2018-09-04 00:00:00  \n",
       "3           2017-12-15 00:00:00  \n",
       "4           2018-02-26 00:00:00  "
      ]
     },
     "execution_count": 15,
     "metadata": {},
     "output_type": "execute_result"
    }
   ],
   "source": [
    "df_orders = pd.read_csv(\"olist_orders_dataset.csv\")\n",
    "df_orders.head()"
   ]
  },
  {
   "cell_type": "code",
   "execution_count": 16,
   "id": "bab9f65c",
   "metadata": {},
   "outputs": [
    {
     "name": "stdout",
     "output_type": "stream",
     "text": [
      "<class 'pandas.core.frame.DataFrame'>\n",
      "RangeIndex: 99441 entries, 0 to 99440\n",
      "Data columns (total 8 columns):\n",
      " #   Column                         Non-Null Count  Dtype \n",
      "---  ------                         --------------  ----- \n",
      " 0   order_id                       99441 non-null  object\n",
      " 1   customer_id                    99441 non-null  object\n",
      " 2   order_status                   99441 non-null  object\n",
      " 3   order_purchase_timestamp       99441 non-null  object\n",
      " 4   order_approved_at              99281 non-null  object\n",
      " 5   order_delivered_carrier_date   97658 non-null  object\n",
      " 6   order_delivered_customer_date  96476 non-null  object\n",
      " 7   order_estimated_delivery_date  99441 non-null  object\n",
      "dtypes: object(8)\n",
      "memory usage: 6.1+ MB\n"
     ]
    }
   ],
   "source": [
    "df_orders.info()"
   ]
  },
  {
   "cell_type": "markdown",
   "id": "cbc9428d",
   "metadata": {},
   "source": [
    "### 2.7 Products Dataset\n",
    "Dataset ini memiliki informasi mengenai data produk yang dijual di Olist Store."
   ]
  },
  {
   "cell_type": "code",
   "execution_count": 17,
   "id": "7ab07cf4",
   "metadata": {},
   "outputs": [
    {
     "data": {
      "text/html": [
       "<div>\n",
       "<style scoped>\n",
       "    .dataframe tbody tr th:only-of-type {\n",
       "        vertical-align: middle;\n",
       "    }\n",
       "\n",
       "    .dataframe tbody tr th {\n",
       "        vertical-align: top;\n",
       "    }\n",
       "\n",
       "    .dataframe thead th {\n",
       "        text-align: right;\n",
       "    }\n",
       "</style>\n",
       "<table border=\"1\" class=\"dataframe\">\n",
       "  <thead>\n",
       "    <tr style=\"text-align: right;\">\n",
       "      <th></th>\n",
       "      <th>product_id</th>\n",
       "      <th>product_category_name</th>\n",
       "      <th>product_name_lenght</th>\n",
       "      <th>product_description_lenght</th>\n",
       "      <th>product_photos_qty</th>\n",
       "      <th>product_weight_g</th>\n",
       "      <th>product_length_cm</th>\n",
       "      <th>product_height_cm</th>\n",
       "      <th>product_width_cm</th>\n",
       "    </tr>\n",
       "  </thead>\n",
       "  <tbody>\n",
       "    <tr>\n",
       "      <th>0</th>\n",
       "      <td>1e9e8ef04dbcff4541ed26657ea517e5</td>\n",
       "      <td>perfumaria</td>\n",
       "      <td>40.0</td>\n",
       "      <td>287.0</td>\n",
       "      <td>1.0</td>\n",
       "      <td>225.0</td>\n",
       "      <td>16.0</td>\n",
       "      <td>10.0</td>\n",
       "      <td>14.0</td>\n",
       "    </tr>\n",
       "    <tr>\n",
       "      <th>1</th>\n",
       "      <td>3aa071139cb16b67ca9e5dea641aaa2f</td>\n",
       "      <td>artes</td>\n",
       "      <td>44.0</td>\n",
       "      <td>276.0</td>\n",
       "      <td>1.0</td>\n",
       "      <td>1000.0</td>\n",
       "      <td>30.0</td>\n",
       "      <td>18.0</td>\n",
       "      <td>20.0</td>\n",
       "    </tr>\n",
       "    <tr>\n",
       "      <th>2</th>\n",
       "      <td>96bd76ec8810374ed1b65e291975717f</td>\n",
       "      <td>esporte_lazer</td>\n",
       "      <td>46.0</td>\n",
       "      <td>250.0</td>\n",
       "      <td>1.0</td>\n",
       "      <td>154.0</td>\n",
       "      <td>18.0</td>\n",
       "      <td>9.0</td>\n",
       "      <td>15.0</td>\n",
       "    </tr>\n",
       "    <tr>\n",
       "      <th>3</th>\n",
       "      <td>cef67bcfe19066a932b7673e239eb23d</td>\n",
       "      <td>bebes</td>\n",
       "      <td>27.0</td>\n",
       "      <td>261.0</td>\n",
       "      <td>1.0</td>\n",
       "      <td>371.0</td>\n",
       "      <td>26.0</td>\n",
       "      <td>4.0</td>\n",
       "      <td>26.0</td>\n",
       "    </tr>\n",
       "    <tr>\n",
       "      <th>4</th>\n",
       "      <td>9dc1a7de274444849c219cff195d0b71</td>\n",
       "      <td>utilidades_domesticas</td>\n",
       "      <td>37.0</td>\n",
       "      <td>402.0</td>\n",
       "      <td>4.0</td>\n",
       "      <td>625.0</td>\n",
       "      <td>20.0</td>\n",
       "      <td>17.0</td>\n",
       "      <td>13.0</td>\n",
       "    </tr>\n",
       "  </tbody>\n",
       "</table>\n",
       "</div>"
      ],
      "text/plain": [
       "                         product_id  product_category_name  \\\n",
       "0  1e9e8ef04dbcff4541ed26657ea517e5             perfumaria   \n",
       "1  3aa071139cb16b67ca9e5dea641aaa2f                  artes   \n",
       "2  96bd76ec8810374ed1b65e291975717f          esporte_lazer   \n",
       "3  cef67bcfe19066a932b7673e239eb23d                  bebes   \n",
       "4  9dc1a7de274444849c219cff195d0b71  utilidades_domesticas   \n",
       "\n",
       "   product_name_lenght  product_description_lenght  product_photos_qty  \\\n",
       "0                 40.0                       287.0                 1.0   \n",
       "1                 44.0                       276.0                 1.0   \n",
       "2                 46.0                       250.0                 1.0   \n",
       "3                 27.0                       261.0                 1.0   \n",
       "4                 37.0                       402.0                 4.0   \n",
       "\n",
       "   product_weight_g  product_length_cm  product_height_cm  product_width_cm  \n",
       "0             225.0               16.0               10.0              14.0  \n",
       "1            1000.0               30.0               18.0              20.0  \n",
       "2             154.0               18.0                9.0              15.0  \n",
       "3             371.0               26.0                4.0              26.0  \n",
       "4             625.0               20.0               17.0              13.0  "
      ]
     },
     "execution_count": 17,
     "metadata": {},
     "output_type": "execute_result"
    }
   ],
   "source": [
    "df_products = pd.read_csv(\"olist_products_dataset.csv\")\n",
    "df_products.head()"
   ]
  },
  {
   "cell_type": "code",
   "execution_count": 18,
   "id": "a38bfe69",
   "metadata": {},
   "outputs": [
    {
     "name": "stdout",
     "output_type": "stream",
     "text": [
      "<class 'pandas.core.frame.DataFrame'>\n",
      "RangeIndex: 32951 entries, 0 to 32950\n",
      "Data columns (total 9 columns):\n",
      " #   Column                      Non-Null Count  Dtype  \n",
      "---  ------                      --------------  -----  \n",
      " 0   product_id                  32951 non-null  object \n",
      " 1   product_category_name       32341 non-null  object \n",
      " 2   product_name_lenght         32341 non-null  float64\n",
      " 3   product_description_lenght  32341 non-null  float64\n",
      " 4   product_photos_qty          32341 non-null  float64\n",
      " 5   product_weight_g            32949 non-null  float64\n",
      " 6   product_length_cm           32949 non-null  float64\n",
      " 7   product_height_cm           32949 non-null  float64\n",
      " 8   product_width_cm            32949 non-null  float64\n",
      "dtypes: float64(7), object(2)\n",
      "memory usage: 2.3+ MB\n"
     ]
    }
   ],
   "source": [
    "df_products.info()"
   ]
  },
  {
   "cell_type": "markdown",
   "id": "bb56ad9c",
   "metadata": {},
   "source": [
    "### 2.8 Sellers Dataset\n",
    "Dataset ini memiliki informasi mengenai penjual yang menyelesaikan order yang dibuat di Olist Store. Dengan dataset ini kita dapat menemukan lokasi penjual dan mengidentifikasi penjual mana yang memenuhi pembelian."
   ]
  },
  {
   "cell_type": "code",
   "execution_count": 19,
   "id": "3a75fe00",
   "metadata": {},
   "outputs": [
    {
     "data": {
      "text/html": [
       "<div>\n",
       "<style scoped>\n",
       "    .dataframe tbody tr th:only-of-type {\n",
       "        vertical-align: middle;\n",
       "    }\n",
       "\n",
       "    .dataframe tbody tr th {\n",
       "        vertical-align: top;\n",
       "    }\n",
       "\n",
       "    .dataframe thead th {\n",
       "        text-align: right;\n",
       "    }\n",
       "</style>\n",
       "<table border=\"1\" class=\"dataframe\">\n",
       "  <thead>\n",
       "    <tr style=\"text-align: right;\">\n",
       "      <th></th>\n",
       "      <th>seller_id</th>\n",
       "      <th>seller_zip_code_prefix</th>\n",
       "      <th>seller_city</th>\n",
       "      <th>seller_state</th>\n",
       "    </tr>\n",
       "  </thead>\n",
       "  <tbody>\n",
       "    <tr>\n",
       "      <th>0</th>\n",
       "      <td>3442f8959a84dea7ee197c632cb2df15</td>\n",
       "      <td>13023</td>\n",
       "      <td>campinas</td>\n",
       "      <td>SP</td>\n",
       "    </tr>\n",
       "    <tr>\n",
       "      <th>1</th>\n",
       "      <td>d1b65fc7debc3361ea86b5f14c68d2e2</td>\n",
       "      <td>13844</td>\n",
       "      <td>mogi guacu</td>\n",
       "      <td>SP</td>\n",
       "    </tr>\n",
       "    <tr>\n",
       "      <th>2</th>\n",
       "      <td>ce3ad9de960102d0677a81f5d0bb7b2d</td>\n",
       "      <td>20031</td>\n",
       "      <td>rio de janeiro</td>\n",
       "      <td>RJ</td>\n",
       "    </tr>\n",
       "    <tr>\n",
       "      <th>3</th>\n",
       "      <td>c0f3eea2e14555b6faeea3dd58c1b1c3</td>\n",
       "      <td>4195</td>\n",
       "      <td>sao paulo</td>\n",
       "      <td>SP</td>\n",
       "    </tr>\n",
       "    <tr>\n",
       "      <th>4</th>\n",
       "      <td>51a04a8a6bdcb23deccc82b0b80742cf</td>\n",
       "      <td>12914</td>\n",
       "      <td>braganca paulista</td>\n",
       "      <td>SP</td>\n",
       "    </tr>\n",
       "  </tbody>\n",
       "</table>\n",
       "</div>"
      ],
      "text/plain": [
       "                          seller_id  seller_zip_code_prefix  \\\n",
       "0  3442f8959a84dea7ee197c632cb2df15                   13023   \n",
       "1  d1b65fc7debc3361ea86b5f14c68d2e2                   13844   \n",
       "2  ce3ad9de960102d0677a81f5d0bb7b2d                   20031   \n",
       "3  c0f3eea2e14555b6faeea3dd58c1b1c3                    4195   \n",
       "4  51a04a8a6bdcb23deccc82b0b80742cf                   12914   \n",
       "\n",
       "         seller_city seller_state  \n",
       "0           campinas           SP  \n",
       "1         mogi guacu           SP  \n",
       "2     rio de janeiro           RJ  \n",
       "3          sao paulo           SP  \n",
       "4  braganca paulista           SP  "
      ]
     },
     "execution_count": 19,
     "metadata": {},
     "output_type": "execute_result"
    }
   ],
   "source": [
    "df_sellers = pd.read_csv(\"olist_sellers_dataset.csv\")\n",
    "df_sellers.head()"
   ]
  },
  {
   "cell_type": "code",
   "execution_count": 20,
   "id": "9edcdee9",
   "metadata": {},
   "outputs": [
    {
     "name": "stdout",
     "output_type": "stream",
     "text": [
      "<class 'pandas.core.frame.DataFrame'>\n",
      "RangeIndex: 3095 entries, 0 to 3094\n",
      "Data columns (total 4 columns):\n",
      " #   Column                  Non-Null Count  Dtype \n",
      "---  ------                  --------------  ----- \n",
      " 0   seller_id               3095 non-null   object\n",
      " 1   seller_zip_code_prefix  3095 non-null   int64 \n",
      " 2   seller_city             3095 non-null   object\n",
      " 3   seller_state            3095 non-null   object\n",
      "dtypes: int64(1), object(3)\n",
      "memory usage: 96.8+ KB\n"
     ]
    }
   ],
   "source": [
    "df_sellers.info()"
   ]
  },
  {
   "cell_type": "markdown",
   "id": "dc3b7526",
   "metadata": {},
   "source": [
    "### 2.9 Product Category Name Translation Dataset\n",
    "Dataset ini memiliki informasi mengenai terjemahan product_category_name dari bahasa portugis ke bahasa inggris."
   ]
  },
  {
   "cell_type": "code",
   "execution_count": 22,
   "id": "0845b815",
   "metadata": {},
   "outputs": [
    {
     "data": {
      "text/html": [
       "<div>\n",
       "<style scoped>\n",
       "    .dataframe tbody tr th:only-of-type {\n",
       "        vertical-align: middle;\n",
       "    }\n",
       "\n",
       "    .dataframe tbody tr th {\n",
       "        vertical-align: top;\n",
       "    }\n",
       "\n",
       "    .dataframe thead th {\n",
       "        text-align: right;\n",
       "    }\n",
       "</style>\n",
       "<table border=\"1\" class=\"dataframe\">\n",
       "  <thead>\n",
       "    <tr style=\"text-align: right;\">\n",
       "      <th></th>\n",
       "      <th>product_category_name</th>\n",
       "      <th>product_category_name_english</th>\n",
       "    </tr>\n",
       "  </thead>\n",
       "  <tbody>\n",
       "    <tr>\n",
       "      <th>0</th>\n",
       "      <td>beleza_saude</td>\n",
       "      <td>health_beauty</td>\n",
       "    </tr>\n",
       "    <tr>\n",
       "      <th>1</th>\n",
       "      <td>informatica_acessorios</td>\n",
       "      <td>computers_accessories</td>\n",
       "    </tr>\n",
       "    <tr>\n",
       "      <th>2</th>\n",
       "      <td>automotivo</td>\n",
       "      <td>auto</td>\n",
       "    </tr>\n",
       "    <tr>\n",
       "      <th>3</th>\n",
       "      <td>cama_mesa_banho</td>\n",
       "      <td>bed_bath_table</td>\n",
       "    </tr>\n",
       "    <tr>\n",
       "      <th>4</th>\n",
       "      <td>moveis_decoracao</td>\n",
       "      <td>furniture_decor</td>\n",
       "    </tr>\n",
       "  </tbody>\n",
       "</table>\n",
       "</div>"
      ],
      "text/plain": [
       "    product_category_name product_category_name_english\n",
       "0            beleza_saude                 health_beauty\n",
       "1  informatica_acessorios         computers_accessories\n",
       "2              automotivo                          auto\n",
       "3         cama_mesa_banho                bed_bath_table\n",
       "4        moveis_decoracao               furniture_decor"
      ]
     },
     "execution_count": 22,
     "metadata": {},
     "output_type": "execute_result"
    }
   ],
   "source": [
    "df_product_category_name = pd.read_csv(\"product_category_name_translation.csv\")\n",
    "df_product_category_name.head()"
   ]
  },
  {
   "cell_type": "code",
   "execution_count": 23,
   "id": "d24f89cf",
   "metadata": {},
   "outputs": [
    {
     "name": "stdout",
     "output_type": "stream",
     "text": [
      "<class 'pandas.core.frame.DataFrame'>\n",
      "RangeIndex: 71 entries, 0 to 70\n",
      "Data columns (total 2 columns):\n",
      " #   Column                         Non-Null Count  Dtype \n",
      "---  ------                         --------------  ----- \n",
      " 0   product_category_name          71 non-null     object\n",
      " 1   product_category_name_english  71 non-null     object\n",
      "dtypes: object(2)\n",
      "memory usage: 1.2+ KB\n"
     ]
    }
   ],
   "source": [
    "df_product_category_name.info()"
   ]
  },
  {
   "attachments": {
    "image.png": {
     "image/png": "[encoded data removed]"
    }
   },
   "cell_type": "markdown",
   "id": "433ec9fc",
   "metadata": {},
   "source": [
    "### 2.10 Data Schema\n",
    "Data ini terbagi menjadi 9 dataset. hubungan antar dataset dapat dilihat pada gambar schema berikut.\n",
    "\n",
    "![image.png](attachment:image.png)"
   ]
  },
  {
   "cell_type": "markdown",
   "id": "2ff03cdf",
   "metadata": {},
   "source": [
    "### 3. EDA (Explanatory Data Analysis) & Data Preprocessing"
   ]
  },
  {
   "cell_type": "markdown",
   "id": "2a30423a",
   "metadata": {},
   "source": [
    "### 3.1 Duplicate Data"
   ]
  },
  {
   "cell_type": "markdown",
   "id": "76c0b5b7",
   "metadata": {},
   "source": [
    "#### 3.1.1 Check Duplicate Data"
   ]
  },
  {
   "cell_type": "markdown",
   "id": "86677a71",
   "metadata": {},
   "source": [
    "#### df_customers"
   ]
  },
  {
   "cell_type": "code",
   "execution_count": 24,
   "id": "7df6001f",
   "metadata": {},
   "outputs": [
    {
     "data": {
      "text/plain": [
       "0"
      ]
     },
     "execution_count": 24,
     "metadata": {},
     "output_type": "execute_result"
    }
   ],
   "source": [
    "df_customers.duplicated().sum()"
   ]
  },
  {
   "cell_type": "markdown",
   "id": "335639b9",
   "metadata": {},
   "source": [
    "Tidak ada data yang duplikat dari df1_customers."
   ]
  },
  {
   "cell_type": "markdown",
   "id": "04cc252c",
   "metadata": {},
   "source": [
    "#### df_geolocation"
   ]
  },
  {
   "cell_type": "code",
   "execution_count": 26,
   "id": "a5465066",
   "metadata": {},
   "outputs": [
    {
     "data": {
      "text/plain": [
       "261831"
      ]
     },
     "execution_count": 26,
     "metadata": {},
     "output_type": "execute_result"
    }
   ],
   "source": [
    "df_geolocation.duplicated().sum()"
   ]
  },
  {
   "cell_type": "markdown",
   "id": "d7b71721",
   "metadata": {},
   "source": [
    "Terdapat banyak data duplikat dari df_geolocation. Hal ini disebabkan karena dalam satu zip code terdapat banyak user yang melakukan transaksi."
   ]
  },
  {
   "cell_type": "markdown",
   "id": "5e4f043c",
   "metadata": {},
   "source": [
    "#### df_orderitems"
   ]
  },
  {
   "cell_type": "code",
   "execution_count": 27,
   "id": "376d268b",
   "metadata": {},
   "outputs": [
    {
     "data": {
      "text/plain": [
       "0"
      ]
     },
     "execution_count": 27,
     "metadata": {},
     "output_type": "execute_result"
    }
   ],
   "source": [
    "df_orderitems.duplicated().sum()"
   ]
  },
  {
   "cell_type": "markdown",
   "id": "8b497547",
   "metadata": {},
   "source": [
    "Tidak ada data yang duplikat dari df_orderitems."
   ]
  },
  {
   "cell_type": "markdown",
   "id": "1f33f88b",
   "metadata": {},
   "source": [
    "#### df4_orderpayment"
   ]
  },
  {
   "cell_type": "code",
   "execution_count": 28,
   "id": "4c2552e2",
   "metadata": {},
   "outputs": [
    {
     "data": {
      "text/plain": [
       "0"
      ]
     },
     "execution_count": 28,
     "metadata": {},
     "output_type": "execute_result"
    }
   ],
   "source": [
    "df_orderpayments.duplicated().sum()"
   ]
  },
  {
   "cell_type": "markdown",
   "id": "17ac46a2",
   "metadata": {},
   "source": [
    "Tidak ada data yang duplikat dari df_orderpayment."
   ]
  },
  {
   "cell_type": "markdown",
   "id": "5c37093c",
   "metadata": {},
   "source": [
    "#### df_orderreviews"
   ]
  },
  {
   "cell_type": "code",
   "execution_count": 29,
   "id": "848aea4e",
   "metadata": {},
   "outputs": [
    {
     "data": {
      "text/plain": [
       "0"
      ]
     },
     "execution_count": 29,
     "metadata": {},
     "output_type": "execute_result"
    }
   ],
   "source": [
    "df_orderreviews.duplicated().sum()"
   ]
  },
  {
   "cell_type": "markdown",
   "id": "7580239e",
   "metadata": {},
   "source": [
    "Tidak ada data yang duplikat dari df_orderreviews."
   ]
  },
  {
   "cell_type": "markdown",
   "id": "18c900eb",
   "metadata": {},
   "source": [
    "#### df_orders"
   ]
  },
  {
   "cell_type": "code",
   "execution_count": 30,
   "id": "4ed369ed",
   "metadata": {},
   "outputs": [
    {
     "data": {
      "text/plain": [
       "0"
      ]
     },
     "execution_count": 30,
     "metadata": {},
     "output_type": "execute_result"
    }
   ],
   "source": [
    "df_orders.duplicated().sum()"
   ]
  },
  {
   "cell_type": "markdown",
   "id": "30fe2629",
   "metadata": {},
   "source": [
    "Tidak ada data yang duplikat dari df_orders."
   ]
  },
  {
   "cell_type": "markdown",
   "id": "2e8e0974",
   "metadata": {},
   "source": [
    "#### df_products"
   ]
  },
  {
   "cell_type": "code",
   "execution_count": 31,
   "id": "237c80fd",
   "metadata": {},
   "outputs": [
    {
     "data": {
      "text/plain": [
       "0"
      ]
     },
     "execution_count": 31,
     "metadata": {},
     "output_type": "execute_result"
    }
   ],
   "source": [
    "df_products.duplicated().sum()"
   ]
  },
  {
   "cell_type": "markdown",
   "id": "4b02ba7c",
   "metadata": {},
   "source": [
    "Tidak ada data yang duplikat dari df_products."
   ]
  },
  {
   "cell_type": "markdown",
   "id": "91aed121",
   "metadata": {},
   "source": [
    "#### df_sellers"
   ]
  },
  {
   "cell_type": "code",
   "execution_count": 32,
   "id": "dc74ef60",
   "metadata": {},
   "outputs": [
    {
     "data": {
      "text/plain": [
       "0"
      ]
     },
     "execution_count": 32,
     "metadata": {},
     "output_type": "execute_result"
    }
   ],
   "source": [
    "df_sellers.duplicated().sum()"
   ]
  },
  {
   "cell_type": "markdown",
   "id": "9a397e4f",
   "metadata": {},
   "source": [
    "Tidak ada data yang duplikat dari df8_sellers."
   ]
  },
  {
   "cell_type": "markdown",
   "id": "4d0dcd4f",
   "metadata": {},
   "source": [
    "### 3.1.2 Handling Duplicate Data\n",
    "Dilihat dari tiap tabel yang sudah dicek di atas, hanya tabel df_geolocation yang memiliki data duplikat. Dari penjelasan yang ada pada tabel df_geolocation, tidak perlu meng-handling data yang duplikat."
   ]
  },
  {
   "cell_type": "markdown",
   "id": "a94e7797",
   "metadata": {},
   "source": [
    "### 3.2 Missing Value"
   ]
  },
  {
   "cell_type": "markdown",
   "id": "6f492af2",
   "metadata": {},
   "source": [
    "### 3.2.1 Check Missing Value"
   ]
  },
  {
   "cell_type": "markdown",
   "id": "1b889715",
   "metadata": {},
   "source": [
    "#### df_customers"
   ]
  },
  {
   "cell_type": "code",
   "execution_count": 40,
   "id": "e66ae5a2",
   "metadata": {},
   "outputs": [
    {
     "data": {
      "text/plain": [
       "customer_id                 0\n",
       "customer_unique_id          0\n",
       "customer_zip_code_prefix    0\n",
       "customer_city               0\n",
       "customer_state              0\n",
       "dtype: int64"
      ]
     },
     "execution_count": 40,
     "metadata": {},
     "output_type": "execute_result"
    }
   ],
   "source": [
    "df_customers.isnull().sum()"
   ]
  },
  {
   "cell_type": "markdown",
   "id": "c2d7a85b",
   "metadata": {},
   "source": [
    "Tidak ada missing value dari df_customers."
   ]
  },
  {
   "cell_type": "markdown",
   "id": "37268f73",
   "metadata": {},
   "source": [
    "#### df_geolocation"
   ]
  },
  {
   "cell_type": "code",
   "execution_count": 41,
   "id": "b1286d9d",
   "metadata": {},
   "outputs": [
    {
     "data": {
      "text/plain": [
       "geolocation_zip_code_prefix    0\n",
       "geolocation_lat                0\n",
       "geolocation_lng                0\n",
       "geolocation_city               0\n",
       "geolocation_state              0\n",
       "dtype: int64"
      ]
     },
     "execution_count": 41,
     "metadata": {},
     "output_type": "execute_result"
    }
   ],
   "source": [
    "df_geolocation.isnull().sum()"
   ]
  },
  {
   "cell_type": "markdown",
   "id": "88e1f44a",
   "metadata": {},
   "source": [
    "Tidak ada missing value dari df2_geolocation."
   ]
  },
  {
   "cell_type": "markdown",
   "id": "3128a70b",
   "metadata": {},
   "source": [
    "#### df_orderitems"
   ]
  },
  {
   "cell_type": "code",
   "execution_count": 42,
   "id": "cd075257",
   "metadata": {},
   "outputs": [
    {
     "data": {
      "text/plain": [
       "order_id               0\n",
       "order_item_id          0\n",
       "product_id             0\n",
       "seller_id              0\n",
       "shipping_limit_date    0\n",
       "price                  0\n",
       "freight_value          0\n",
       "dtype: int64"
      ]
     },
     "execution_count": 42,
     "metadata": {},
     "output_type": "execute_result"
    }
   ],
   "source": [
    "df_orderitems.isnull().sum()"
   ]
  },
  {
   "cell_type": "markdown",
   "id": "10b3ae6a",
   "metadata": {},
   "source": [
    "Tidak ada missing value dari df_orderitems."
   ]
  },
  {
   "cell_type": "markdown",
   "id": "959dc1d4",
   "metadata": {},
   "source": [
    "#### df_orderpayments"
   ]
  },
  {
   "cell_type": "code",
   "execution_count": 35,
   "id": "a5c4f5c4",
   "metadata": {},
   "outputs": [
    {
     "data": {
      "text/plain": [
       "order_id                0\n",
       "payment_sequential      0\n",
       "payment_type            0\n",
       "payment_installments    0\n",
       "payment_value           0\n",
       "dtype: int64"
      ]
     },
     "execution_count": 35,
     "metadata": {},
     "output_type": "execute_result"
    }
   ],
   "source": [
    "df_orderpayments.isnull().sum()"
   ]
  },
  {
   "cell_type": "markdown",
   "id": "b88c8eee",
   "metadata": {},
   "source": [
    "Tidak ada missing value dari df_orderpayments."
   ]
  },
  {
   "cell_type": "markdown",
   "id": "8b59a885",
   "metadata": {},
   "source": [
    "#### df_orderreviews"
   ]
  },
  {
   "cell_type": "code",
   "execution_count": 36,
   "id": "827a8a38",
   "metadata": {},
   "outputs": [
    {
     "data": {
      "text/plain": [
       "review_id                      0\n",
       "order_id                       0\n",
       "review_score                   0\n",
       "review_comment_title       87656\n",
       "review_comment_message     58247\n",
       "review_creation_date           0\n",
       "review_answer_timestamp        0\n",
       "dtype: int64"
      ]
     },
     "execution_count": 36,
     "metadata": {},
     "output_type": "execute_result"
    }
   ],
   "source": [
    "df_orderreviews.isnull().sum()"
   ]
  },
  {
   "cell_type": "markdown",
   "id": "af022645",
   "metadata": {},
   "source": [
    "Terdapat 87,656 missing value pada kolom review_comment_title dan 58,247 missing value pada kolom review_comment_message."
   ]
  },
  {
   "cell_type": "markdown",
   "id": "b8ff2556",
   "metadata": {},
   "source": [
    "#### df_orders"
   ]
  },
  {
   "cell_type": "code",
   "execution_count": 37,
   "id": "75dd9e42",
   "metadata": {},
   "outputs": [
    {
     "data": {
      "text/plain": [
       "order_id                            0\n",
       "customer_id                         0\n",
       "order_status                        0\n",
       "order_purchase_timestamp            0\n",
       "order_approved_at                 160\n",
       "order_delivered_carrier_date     1783\n",
       "order_delivered_customer_date    2965\n",
       "order_estimated_delivery_date       0\n",
       "dtype: int64"
      ]
     },
     "execution_count": 37,
     "metadata": {},
     "output_type": "execute_result"
    }
   ],
   "source": [
    "df_orders.isnull().sum()"
   ]
  },
  {
   "cell_type": "markdown",
   "id": "3b224aca",
   "metadata": {},
   "source": [
    "Terdapat 160 missing value pada kolom order_approved_at, 1783 missing value pada kolom order_delivered_carrier_date, dan 2965 missing value pada kolom order_delivered_customer_date."
   ]
  },
  {
   "cell_type": "markdown",
   "id": "34b68324",
   "metadata": {},
   "source": [
    "#### df_products"
   ]
  },
  {
   "cell_type": "code",
   "execution_count": 38,
   "id": "addc0bd5",
   "metadata": {},
   "outputs": [
    {
     "data": {
      "text/plain": [
       "product_id                      0\n",
       "product_category_name         610\n",
       "product_name_lenght           610\n",
       "product_description_lenght    610\n",
       "product_photos_qty            610\n",
       "product_weight_g                2\n",
       "product_length_cm               2\n",
       "product_height_cm               2\n",
       "product_width_cm                2\n",
       "dtype: int64"
      ]
     },
     "execution_count": 38,
     "metadata": {},
     "output_type": "execute_result"
    }
   ],
   "source": [
    "df_products.isnull().sum()"
   ]
  },
  {
   "cell_type": "markdown",
   "id": "6ad5766e",
   "metadata": {},
   "source": [
    "Seluruh kolom kecuali kolom product_id pada df7_products memiliki missing value."
   ]
  },
  {
   "cell_type": "markdown",
   "id": "dd0d93d2",
   "metadata": {},
   "source": [
    "#### df_sellers"
   ]
  },
  {
   "cell_type": "code",
   "execution_count": 47,
   "id": "128c8572",
   "metadata": {},
   "outputs": [
    {
     "data": {
      "text/plain": [
       "seller_id                 0\n",
       "seller_zip_code_prefix    0\n",
       "seller_city               0\n",
       "seller_state              0\n",
       "dtype: int64"
      ]
     },
     "execution_count": 47,
     "metadata": {},
     "output_type": "execute_result"
    }
   ],
   "source": [
    "df_sellers.isnull().sum()"
   ]
  },
  {
   "cell_type": "markdown",
   "id": "daf9a931",
   "metadata": {},
   "source": [
    "Tidak ada missing value dari df_sellers."
   ]
  },
  {
   "cell_type": "markdown",
   "id": "5113828c",
   "metadata": {},
   "source": [
    "### 3.2.2 Handling Missing Value"
   ]
  },
  {
   "cell_type": "markdown",
   "id": "f4b5460f",
   "metadata": {},
   "source": [
    "Dilihat dari tiap tabel yang sudah dicek di atas, terdapat 3 tabel yang memiliki missing value yaitu tabel df_orderreviews, df_orders, dan df_products."
   ]
  },
  {
   "cell_type": "markdown",
   "id": "35c92f83",
   "metadata": {},
   "source": [
    "#### df_orderreviews"
   ]
  },
  {
   "cell_type": "markdown",
   "id": "e1ecd77f",
   "metadata": {},
   "source": [
    "Pada tabel df5_orderreviews tidak perlu di-handling karena customer bisa saja tidak memberikan review comment walaupun sudah memberikan review score dari produk yang sudah dibeli."
   ]
  },
  {
   "cell_type": "markdown",
   "id": "905cd400",
   "metadata": {},
   "source": [
    "#### df_orders"
   ]
  },
  {
   "cell_type": "markdown",
   "id": "251f3512",
   "metadata": {},
   "source": [
    "Pada tabel df_orders tidak perlu di-handling dengan alasan berikut.\n",
    "\n",
    "1. Processing : Status setelah customer melakukan order sehingga kolom order_delivered_carrier_date dan kolom order_delivered_customer_date pasti kosong (NaN).\n",
    "2. Unavailable : Status ketika penjual menyatakan stock produk tidak tersedia setelah customer melakukan order sehingga kolom order_delivered_carrier_date dan kolom order_delivered_customer_date pasti kosong (NaN).\n",
    "3. Approved : Status ketika order disetujui oleh penjual sehingga kolom order_delivered_carrier_date dan kolom order_delivered_customer_date pasti kosong (NaN).\n",
    "4. Invoiced : Status ketika order sudah dibayar oleh customer sehingga kolom order_delivered_carrier_date dan kolom order_delivered_customer_date pasti kosong (NaN).\n",
    "5. Shipped : Status ketika produk sedang dikirimkan oleh penjual ke customer sehingga kolom order_delivered_customer_date pasti kosong (NaN).\n",
    "6. Delivered : Status ketika produk sudah sampai pada customer.\n",
    "7. Canceled : Status ketika customer membatalkan order, pembatalan memungkinkan terjadi pada setiap Order Status (kecuali Delivered) sehingga kolom yang kosong bisa terjadi pada kombinasi kolom order_approved_timestamp, order_delivered_carrier_date, dan order_delivered_customer_date."
   ]
  },
  {
   "cell_type": "markdown",
   "id": "28b7fd33",
   "metadata": {},
   "source": [
    "#### df_products"
   ]
  },
  {
   "cell_type": "markdown",
   "id": "f4084472",
   "metadata": {},
   "source": [
    "Pada tabel df_products missing data akan dibiarkan kecuali pada kolom product_category_name, karena nanti kami akan membutuhkan jenis barang apa saja yang dibeli masing-masing segmentasi customer."
   ]
  },
  {
   "cell_type": "code",
   "execution_count": 41,
   "id": "d379e6e9",
   "metadata": {},
   "outputs": [],
   "source": [
    "df_products['product_category_name'] = df_products['product_category_name'].fillna('miscellaneous')"
   ]
  },
  {
   "cell_type": "markdown",
   "id": "8ca37c9f",
   "metadata": {},
   "source": [
    "Setelah memasukkan kategori baru (miscellaneous), kami juga harus menambahkan terjemahan kategori tersebut pada df_product_category_name sehingga ketika diterjemahkan tidak akan ada masalah."
   ]
  },
  {
   "cell_type": "code",
   "execution_count": 42,
   "id": "5fb3555c",
   "metadata": {},
   "outputs": [],
   "source": [
    "df_product_category_name.loc['71'] = ['miscellaneous', 'miscellaneous']"
   ]
  },
  {
   "cell_type": "markdown",
   "id": "10d4ffa3",
   "metadata": {},
   "source": [
    "#### Merge All Data Frame"
   ]
  },
  {
   "cell_type": "markdown",
   "id": "7640f00a",
   "metadata": {},
   "source": [
    "Akan menggabungkan seluruh data frame menjadi satu data frame. Sebelum digabung, masih ada satu data frame yang belum siap digabung pada data frame df_products. Data frame tersebut masih menggunakan bahasa Brazil (Portugal) sehingga kami perlu menerjemahkan bahasa tersebut menggunakan data frame df_product_category_name yang sudah disediakan."
   ]
  },
  {
   "cell_type": "code",
   "execution_count": 43,
   "id": "d5efed12",
   "metadata": {},
   "outputs": [
    {
     "data": {
      "text/html": [
       "<div>\n",
       "<style scoped>\n",
       "    .dataframe tbody tr th:only-of-type {\n",
       "        vertical-align: middle;\n",
       "    }\n",
       "\n",
       "    .dataframe tbody tr th {\n",
       "        vertical-align: top;\n",
       "    }\n",
       "\n",
       "    .dataframe thead th {\n",
       "        text-align: right;\n",
       "    }\n",
       "</style>\n",
       "<table border=\"1\" class=\"dataframe\">\n",
       "  <thead>\n",
       "    <tr style=\"text-align: right;\">\n",
       "      <th></th>\n",
       "      <th>product_id</th>\n",
       "      <th>product_category_name</th>\n",
       "      <th>product_name_lenght</th>\n",
       "      <th>product_description_lenght</th>\n",
       "      <th>product_photos_qty</th>\n",
       "      <th>product_weight_g</th>\n",
       "      <th>product_length_cm</th>\n",
       "      <th>product_height_cm</th>\n",
       "      <th>product_width_cm</th>\n",
       "    </tr>\n",
       "  </thead>\n",
       "  <tbody>\n",
       "    <tr>\n",
       "      <th>0</th>\n",
       "      <td>1e9e8ef04dbcff4541ed26657ea517e5</td>\n",
       "      <td>perfumery</td>\n",
       "      <td>40.0</td>\n",
       "      <td>287.0</td>\n",
       "      <td>1.0</td>\n",
       "      <td>225.0</td>\n",
       "      <td>16.0</td>\n",
       "      <td>10.0</td>\n",
       "      <td>14.0</td>\n",
       "    </tr>\n",
       "    <tr>\n",
       "      <th>1</th>\n",
       "      <td>3aa071139cb16b67ca9e5dea641aaa2f</td>\n",
       "      <td>art</td>\n",
       "      <td>44.0</td>\n",
       "      <td>276.0</td>\n",
       "      <td>1.0</td>\n",
       "      <td>1000.0</td>\n",
       "      <td>30.0</td>\n",
       "      <td>18.0</td>\n",
       "      <td>20.0</td>\n",
       "    </tr>\n",
       "    <tr>\n",
       "      <th>2</th>\n",
       "      <td>96bd76ec8810374ed1b65e291975717f</td>\n",
       "      <td>sports_leisure</td>\n",
       "      <td>46.0</td>\n",
       "      <td>250.0</td>\n",
       "      <td>1.0</td>\n",
       "      <td>154.0</td>\n",
       "      <td>18.0</td>\n",
       "      <td>9.0</td>\n",
       "      <td>15.0</td>\n",
       "    </tr>\n",
       "    <tr>\n",
       "      <th>3</th>\n",
       "      <td>cef67bcfe19066a932b7673e239eb23d</td>\n",
       "      <td>baby</td>\n",
       "      <td>27.0</td>\n",
       "      <td>261.0</td>\n",
       "      <td>1.0</td>\n",
       "      <td>371.0</td>\n",
       "      <td>26.0</td>\n",
       "      <td>4.0</td>\n",
       "      <td>26.0</td>\n",
       "    </tr>\n",
       "    <tr>\n",
       "      <th>4</th>\n",
       "      <td>9dc1a7de274444849c219cff195d0b71</td>\n",
       "      <td>housewares</td>\n",
       "      <td>37.0</td>\n",
       "      <td>402.0</td>\n",
       "      <td>4.0</td>\n",
       "      <td>625.0</td>\n",
       "      <td>20.0</td>\n",
       "      <td>17.0</td>\n",
       "      <td>13.0</td>\n",
       "    </tr>\n",
       "  </tbody>\n",
       "</table>\n",
       "</div>"
      ],
      "text/plain": [
       "                         product_id product_category_name  \\\n",
       "0  1e9e8ef04dbcff4541ed26657ea517e5             perfumery   \n",
       "1  3aa071139cb16b67ca9e5dea641aaa2f                   art   \n",
       "2  96bd76ec8810374ed1b65e291975717f        sports_leisure   \n",
       "3  cef67bcfe19066a932b7673e239eb23d                  baby   \n",
       "4  9dc1a7de274444849c219cff195d0b71            housewares   \n",
       "\n",
       "   product_name_lenght  product_description_lenght  product_photos_qty  \\\n",
       "0                 40.0                       287.0                 1.0   \n",
       "1                 44.0                       276.0                 1.0   \n",
       "2                 46.0                       250.0                 1.0   \n",
       "3                 27.0                       261.0                 1.0   \n",
       "4                 37.0                       402.0                 4.0   \n",
       "\n",
       "   product_weight_g  product_length_cm  product_height_cm  product_width_cm  \n",
       "0             225.0               16.0               10.0              14.0  \n",
       "1            1000.0               30.0               18.0              20.0  \n",
       "2             154.0               18.0                9.0              15.0  \n",
       "3             371.0               26.0                4.0              26.0  \n",
       "4             625.0               20.0               17.0              13.0  "
      ]
     },
     "execution_count": 43,
     "metadata": {},
     "output_type": "execute_result"
    }
   ],
   "source": [
    "# Menerjemahkan kategori barang dari bahasa portugal menjadi bahasa inggris\n",
    "\n",
    "df_productss = pd.merge(df_products, df_product_category_name, how= \"left\", on= \"product_category_name\")\n",
    "df_productss['product_category_name'] = df_productss['product_category_name_english']\n",
    "df_productss.drop(columns = 'product_category_name_english', inplace = True)\n",
    "df_productss.head()"
   ]
  },
  {
   "cell_type": "code",
   "execution_count": 45,
   "id": "c3c578ac",
   "metadata": {},
   "outputs": [
    {
     "data": {
      "text/plain": [
       "product_id                      0\n",
       "product_category_name          13\n",
       "product_name_lenght           610\n",
       "product_description_lenght    610\n",
       "product_photos_qty            610\n",
       "product_weight_g                2\n",
       "product_length_cm               2\n",
       "product_height_cm               2\n",
       "product_width_cm                2\n",
       "dtype: int64"
      ]
     },
     "execution_count": 45,
     "metadata": {},
     "output_type": "execute_result"
    }
   ],
   "source": [
    "df_productss.isnull().sum()"
   ]
  },
  {
   "cell_type": "markdown",
   "id": "06861116",
   "metadata": {},
   "source": [
    "Setelah diterjemahkan, ternyata terdapat 13 data yang memiliki nilai NaN, akan mengecek ke-13 data tersebut."
   ]
  },
  {
   "cell_type": "code",
   "execution_count": 46,
   "id": "81ed780b",
   "metadata": {
    "scrolled": true
   },
   "outputs": [
    {
     "data": {
      "text/html": [
       "<div>\n",
       "<style scoped>\n",
       "    .dataframe tbody tr th:only-of-type {\n",
       "        vertical-align: middle;\n",
       "    }\n",
       "\n",
       "    .dataframe tbody tr th {\n",
       "        vertical-align: top;\n",
       "    }\n",
       "\n",
       "    .dataframe thead th {\n",
       "        text-align: right;\n",
       "    }\n",
       "</style>\n",
       "<table border=\"1\" class=\"dataframe\">\n",
       "  <thead>\n",
       "    <tr style=\"text-align: right;\">\n",
       "      <th></th>\n",
       "      <th>product_id</th>\n",
       "      <th>product_category_name</th>\n",
       "      <th>product_name_lenght</th>\n",
       "      <th>product_description_lenght</th>\n",
       "      <th>product_photos_qty</th>\n",
       "      <th>product_weight_g</th>\n",
       "      <th>product_length_cm</th>\n",
       "      <th>product_height_cm</th>\n",
       "      <th>product_width_cm</th>\n",
       "    </tr>\n",
       "  </thead>\n",
       "  <tbody>\n",
       "    <tr>\n",
       "      <th>1628</th>\n",
       "      <td>0105b5323d24fc655f73052694dbbb3a</td>\n",
       "      <td>NaN</td>\n",
       "      <td>59.0</td>\n",
       "      <td>621.0</td>\n",
       "      <td>4.0</td>\n",
       "      <td>2839.0</td>\n",
       "      <td>19.0</td>\n",
       "      <td>16.0</td>\n",
       "      <td>18.0</td>\n",
       "    </tr>\n",
       "    <tr>\n",
       "      <th>5821</th>\n",
       "      <td>6fd83eb3e0799b775e4f946bd66657c0</td>\n",
       "      <td>NaN</td>\n",
       "      <td>52.0</td>\n",
       "      <td>280.0</td>\n",
       "      <td>1.0</td>\n",
       "      <td>1200.0</td>\n",
       "      <td>25.0</td>\n",
       "      <td>33.0</td>\n",
       "      <td>25.0</td>\n",
       "    </tr>\n",
       "    <tr>\n",
       "      <th>7325</th>\n",
       "      <td>5d923ead886c44b86845f69e50520c3e</td>\n",
       "      <td>NaN</td>\n",
       "      <td>58.0</td>\n",
       "      <td>284.0</td>\n",
       "      <td>1.0</td>\n",
       "      <td>1200.0</td>\n",
       "      <td>25.0</td>\n",
       "      <td>33.0</td>\n",
       "      <td>25.0</td>\n",
       "    </tr>\n",
       "    <tr>\n",
       "      <th>7478</th>\n",
       "      <td>6727051471a0fc4a0e7737b57bff2549</td>\n",
       "      <td>NaN</td>\n",
       "      <td>60.0</td>\n",
       "      <td>1532.0</td>\n",
       "      <td>3.0</td>\n",
       "      <td>650.0</td>\n",
       "      <td>16.0</td>\n",
       "      <td>22.0</td>\n",
       "      <td>20.0</td>\n",
       "    </tr>\n",
       "    <tr>\n",
       "      <th>8819</th>\n",
       "      <td>bed164d9d628cf0593003389c535c6e0</td>\n",
       "      <td>NaN</td>\n",
       "      <td>54.0</td>\n",
       "      <td>382.0</td>\n",
       "      <td>2.0</td>\n",
       "      <td>850.0</td>\n",
       "      <td>30.0</td>\n",
       "      <td>21.0</td>\n",
       "      <td>22.0</td>\n",
       "    </tr>\n",
       "    <tr>\n",
       "      <th>11039</th>\n",
       "      <td>1220978a08a6b29a202bc015b18250e9</td>\n",
       "      <td>NaN</td>\n",
       "      <td>46.0</td>\n",
       "      <td>280.0</td>\n",
       "      <td>1.0</td>\n",
       "      <td>1200.0</td>\n",
       "      <td>25.0</td>\n",
       "      <td>33.0</td>\n",
       "      <td>25.0</td>\n",
       "    </tr>\n",
       "    <tr>\n",
       "      <th>14266</th>\n",
       "      <td>ae62bb0f95af63d64eae5f93dddea8d3</td>\n",
       "      <td>NaN</td>\n",
       "      <td>59.0</td>\n",
       "      <td>927.0</td>\n",
       "      <td>1.0</td>\n",
       "      <td>10600.0</td>\n",
       "      <td>40.0</td>\n",
       "      <td>20.0</td>\n",
       "      <td>38.0</td>\n",
       "    </tr>\n",
       "    <tr>\n",
       "      <th>16182</th>\n",
       "      <td>1954739d84629e7323a4295812a3e0ec</td>\n",
       "      <td>NaN</td>\n",
       "      <td>58.0</td>\n",
       "      <td>792.0</td>\n",
       "      <td>4.0</td>\n",
       "      <td>750.0</td>\n",
       "      <td>30.0</td>\n",
       "      <td>30.0</td>\n",
       "      <td>30.0</td>\n",
       "    </tr>\n",
       "    <tr>\n",
       "      <th>16930</th>\n",
       "      <td>dbe520fb381ad695a7e1f2807d20c765</td>\n",
       "      <td>NaN</td>\n",
       "      <td>60.0</td>\n",
       "      <td>840.0</td>\n",
       "      <td>6.0</td>\n",
       "      <td>800.0</td>\n",
       "      <td>18.0</td>\n",
       "      <td>22.0</td>\n",
       "      <td>22.0</td>\n",
       "    </tr>\n",
       "    <tr>\n",
       "      <th>17800</th>\n",
       "      <td>c7a3f1a7f9eef146cc499368b578b884</td>\n",
       "      <td>NaN</td>\n",
       "      <td>52.0</td>\n",
       "      <td>1372.0</td>\n",
       "      <td>5.0</td>\n",
       "      <td>7350.0</td>\n",
       "      <td>40.0</td>\n",
       "      <td>30.0</td>\n",
       "      <td>23.0</td>\n",
       "    </tr>\n",
       "    <tr>\n",
       "      <th>18610</th>\n",
       "      <td>7afdd65f79f63819ff5bee328843fa37</td>\n",
       "      <td>NaN</td>\n",
       "      <td>48.0</td>\n",
       "      <td>305.0</td>\n",
       "      <td>1.0</td>\n",
       "      <td>750.0</td>\n",
       "      <td>20.0</td>\n",
       "      <td>20.0</td>\n",
       "      <td>20.0</td>\n",
       "    </tr>\n",
       "    <tr>\n",
       "      <th>26890</th>\n",
       "      <td>a4756663d007b0cd1af865754d08d968</td>\n",
       "      <td>NaN</td>\n",
       "      <td>60.0</td>\n",
       "      <td>1304.0</td>\n",
       "      <td>4.0</td>\n",
       "      <td>650.0</td>\n",
       "      <td>22.0</td>\n",
       "      <td>6.0</td>\n",
       "      <td>14.0</td>\n",
       "    </tr>\n",
       "    <tr>\n",
       "      <th>29919</th>\n",
       "      <td>cb9d764f38ee4d0c00af64d5c388f837</td>\n",
       "      <td>NaN</td>\n",
       "      <td>57.0</td>\n",
       "      <td>306.0</td>\n",
       "      <td>1.0</td>\n",
       "      <td>625.0</td>\n",
       "      <td>28.0</td>\n",
       "      <td>27.0</td>\n",
       "      <td>24.0</td>\n",
       "    </tr>\n",
       "  </tbody>\n",
       "</table>\n",
       "</div>"
      ],
      "text/plain": [
       "                             product_id product_category_name  \\\n",
       "1628   0105b5323d24fc655f73052694dbbb3a                   NaN   \n",
       "5821   6fd83eb3e0799b775e4f946bd66657c0                   NaN   \n",
       "7325   5d923ead886c44b86845f69e50520c3e                   NaN   \n",
       "7478   6727051471a0fc4a0e7737b57bff2549                   NaN   \n",
       "8819   bed164d9d628cf0593003389c535c6e0                   NaN   \n",
       "11039  1220978a08a6b29a202bc015b18250e9                   NaN   \n",
       "14266  ae62bb0f95af63d64eae5f93dddea8d3                   NaN   \n",
       "16182  1954739d84629e7323a4295812a3e0ec                   NaN   \n",
       "16930  dbe520fb381ad695a7e1f2807d20c765                   NaN   \n",
       "17800  c7a3f1a7f9eef146cc499368b578b884                   NaN   \n",
       "18610  7afdd65f79f63819ff5bee328843fa37                   NaN   \n",
       "26890  a4756663d007b0cd1af865754d08d968                   NaN   \n",
       "29919  cb9d764f38ee4d0c00af64d5c388f837                   NaN   \n",
       "\n",
       "       product_name_lenght  product_description_lenght  product_photos_qty  \\\n",
       "1628                  59.0                       621.0                 4.0   \n",
       "5821                  52.0                       280.0                 1.0   \n",
       "7325                  58.0                       284.0                 1.0   \n",
       "7478                  60.0                      1532.0                 3.0   \n",
       "8819                  54.0                       382.0                 2.0   \n",
       "11039                 46.0                       280.0                 1.0   \n",
       "14266                 59.0                       927.0                 1.0   \n",
       "16182                 58.0                       792.0                 4.0   \n",
       "16930                 60.0                       840.0                 6.0   \n",
       "17800                 52.0                      1372.0                 5.0   \n",
       "18610                 48.0                       305.0                 1.0   \n",
       "26890                 60.0                      1304.0                 4.0   \n",
       "29919                 57.0                       306.0                 1.0   \n",
       "\n",
       "       product_weight_g  product_length_cm  product_height_cm  \\\n",
       "1628             2839.0               19.0               16.0   \n",
       "5821             1200.0               25.0               33.0   \n",
       "7325             1200.0               25.0               33.0   \n",
       "7478              650.0               16.0               22.0   \n",
       "8819              850.0               30.0               21.0   \n",
       "11039            1200.0               25.0               33.0   \n",
       "14266           10600.0               40.0               20.0   \n",
       "16182             750.0               30.0               30.0   \n",
       "16930             800.0               18.0               22.0   \n",
       "17800            7350.0               40.0               30.0   \n",
       "18610             750.0               20.0               20.0   \n",
       "26890             650.0               22.0                6.0   \n",
       "29919             625.0               28.0               27.0   \n",
       "\n",
       "       product_width_cm  \n",
       "1628               18.0  \n",
       "5821               25.0  \n",
       "7325               25.0  \n",
       "7478               20.0  \n",
       "8819               22.0  \n",
       "11039              25.0  \n",
       "14266              38.0  \n",
       "16182              30.0  \n",
       "16930              22.0  \n",
       "17800              23.0  \n",
       "18610              20.0  \n",
       "26890              14.0  \n",
       "29919              24.0  "
      ]
     },
     "execution_count": 46,
     "metadata": {},
     "output_type": "execute_result"
    }
   ],
   "source": [
    "df_productss[df_productss['product_category_name'].isnull()]"
   ]
  },
  {
   "cell_type": "markdown",
   "id": "c4808edf",
   "metadata": {},
   "source": [
    "Kami akan cek tiap product_id tersebut ke df_product_category_name apakah nama barang tersebut ada dalam bahasa portugal dan terjemahannya."
   ]
  },
  {
   "cell_type": "code",
   "execution_count": 47,
   "id": "4ab21edd",
   "metadata": {},
   "outputs": [
    {
     "name": "stdout",
     "output_type": "stream",
     "text": [
      "['pc_gamer' 'portateis_cozinha_e_preparadores_de_alimentos']\n"
     ]
    }
   ],
   "source": [
    "print(df_products[(df_products['product_id'] == '0105b5323d24fc655f73052694dbbb3a') \n",
    "                 | (df_products['product_id'] == '6fd83eb3e0799b775e4f946bd66657c0') \n",
    "                 | (df_products['product_id'] == '5d923ead886c44b86845f69e50520c3e')\n",
    "                 | (df_products['product_id'] == '6727051471a0fc4a0e7737b57bff2549')\n",
    "                 | (df_products['product_id'] == 'bed164d9d628cf0593003389c535c6e0')\n",
    "                 | (df_products['product_id'] == '1220978a08a6b29a202bc015b18250e9')\n",
    "                 | (df_products['product_id'] == 'ae62bb0f95af63d64eae5f93dddea8d3')\n",
    "                 | (df_products['product_id'] == '1954739d84629e7323a4295812a3e0ec')\n",
    "                 | (df_products['product_id'] == 'dbe520fb381ad695a7e1f2807d20c765')\n",
    "                 | (df_products['product_id'] == 'c7a3f1a7f9eef146cc499368b578b884')\n",
    "                 | (df_products['product_id'] == '7afdd65f79f63819ff5bee328843fa37')\n",
    "                 | (df_products['product_id'] == 'a4756663d007b0cd1af865754d08d968')\n",
    "                 | (df_products['product_id'] == 'cb9d764f38ee4d0c00af64d5c388f837')]['product_category_name'].unique())"
   ]
  },
  {
   "cell_type": "markdown",
   "id": "5fc384da",
   "metadata": {},
   "source": [
    "Dari hasil di atas terdapat 2 kategori barang unique yaitu pc_gamer dan portateis_cozinha_e_preparadores_de_alimentos. Selanjutnya akan dicek terjemahan dari kedua nama tersebut."
   ]
  },
  {
   "cell_type": "code",
   "execution_count": 48,
   "id": "1afcc3a1",
   "metadata": {},
   "outputs": [
    {
     "data": {
      "text/html": [
       "<div>\n",
       "<style scoped>\n",
       "    .dataframe tbody tr th:only-of-type {\n",
       "        vertical-align: middle;\n",
       "    }\n",
       "\n",
       "    .dataframe tbody tr th {\n",
       "        vertical-align: top;\n",
       "    }\n",
       "\n",
       "    .dataframe thead th {\n",
       "        text-align: right;\n",
       "    }\n",
       "</style>\n",
       "<table border=\"1\" class=\"dataframe\">\n",
       "  <thead>\n",
       "    <tr style=\"text-align: right;\">\n",
       "      <th></th>\n",
       "      <th>product_category_name</th>\n",
       "      <th>product_category_name_english</th>\n",
       "    </tr>\n",
       "  </thead>\n",
       "  <tbody>\n",
       "  </tbody>\n",
       "</table>\n",
       "</div>"
      ],
      "text/plain": [
       "Empty DataFrame\n",
       "Columns: [product_category_name, product_category_name_english]\n",
       "Index: []"
      ]
     },
     "execution_count": 48,
     "metadata": {},
     "output_type": "execute_result"
    }
   ],
   "source": [
    "df_product_category_name[(df_product_category_name['product_category_name'] == 'pc_gamer') | (df_product_category_name['product_category_name'] == 'portateis_cozinha_e_preparadores_de_alimentos')]"
   ]
  },
  {
   "cell_type": "markdown",
   "id": "d8700dcf",
   "metadata": {},
   "source": [
    "Dari hasil di atas tidak ada terjemahan untuk kedua kategori produk (pc_gamer dan portateis_cozinha_e_preparadores_de_alimentos). Oleh karena itu kami akan menerjemahkan kedua nama tersebut di tabel df_product_category_name. Setelah menerjemahkan kedua kategori tadi, pc_gamer adalah pc_gamer dan portateis_cozinha_e_preparadores_de_alimentos adalah kitchen_and_food_sets.\n",
    "\n",
    "Sekarang kami akan masukkan terjemahan tersebut ke dalam df_product_category_name."
   ]
  },
  {
   "cell_type": "code",
   "execution_count": 49,
   "id": "157fcb9b",
   "metadata": {},
   "outputs": [],
   "source": [
    "df_product_category_name.loc['72'] = ['pc_gamer', 'pc_gamer']\n",
    "df_product_category_name.loc['73'] = ['portateis_cozinha_e_preparadores_de_alimentos', 'kitchen_and_food_sets']"
   ]
  },
  {
   "cell_type": "code",
   "execution_count": 50,
   "id": "aae45d12",
   "metadata": {},
   "outputs": [
    {
     "data": {
      "text/html": [
       "<div>\n",
       "<style scoped>\n",
       "    .dataframe tbody tr th:only-of-type {\n",
       "        vertical-align: middle;\n",
       "    }\n",
       "\n",
       "    .dataframe tbody tr th {\n",
       "        vertical-align: top;\n",
       "    }\n",
       "\n",
       "    .dataframe thead th {\n",
       "        text-align: right;\n",
       "    }\n",
       "</style>\n",
       "<table border=\"1\" class=\"dataframe\">\n",
       "  <thead>\n",
       "    <tr style=\"text-align: right;\">\n",
       "      <th></th>\n",
       "      <th>product_id</th>\n",
       "      <th>product_category_name</th>\n",
       "      <th>product_name_lenght</th>\n",
       "      <th>product_description_lenght</th>\n",
       "      <th>product_photos_qty</th>\n",
       "      <th>product_weight_g</th>\n",
       "      <th>product_length_cm</th>\n",
       "      <th>product_height_cm</th>\n",
       "      <th>product_width_cm</th>\n",
       "    </tr>\n",
       "  </thead>\n",
       "  <tbody>\n",
       "    <tr>\n",
       "      <th>0</th>\n",
       "      <td>1e9e8ef04dbcff4541ed26657ea517e5</td>\n",
       "      <td>perfumery</td>\n",
       "      <td>40.0</td>\n",
       "      <td>287.0</td>\n",
       "      <td>1.0</td>\n",
       "      <td>225.0</td>\n",
       "      <td>16.0</td>\n",
       "      <td>10.0</td>\n",
       "      <td>14.0</td>\n",
       "    </tr>\n",
       "    <tr>\n",
       "      <th>1</th>\n",
       "      <td>3aa071139cb16b67ca9e5dea641aaa2f</td>\n",
       "      <td>art</td>\n",
       "      <td>44.0</td>\n",
       "      <td>276.0</td>\n",
       "      <td>1.0</td>\n",
       "      <td>1000.0</td>\n",
       "      <td>30.0</td>\n",
       "      <td>18.0</td>\n",
       "      <td>20.0</td>\n",
       "    </tr>\n",
       "    <tr>\n",
       "      <th>2</th>\n",
       "      <td>96bd76ec8810374ed1b65e291975717f</td>\n",
       "      <td>sports_leisure</td>\n",
       "      <td>46.0</td>\n",
       "      <td>250.0</td>\n",
       "      <td>1.0</td>\n",
       "      <td>154.0</td>\n",
       "      <td>18.0</td>\n",
       "      <td>9.0</td>\n",
       "      <td>15.0</td>\n",
       "    </tr>\n",
       "    <tr>\n",
       "      <th>3</th>\n",
       "      <td>cef67bcfe19066a932b7673e239eb23d</td>\n",
       "      <td>baby</td>\n",
       "      <td>27.0</td>\n",
       "      <td>261.0</td>\n",
       "      <td>1.0</td>\n",
       "      <td>371.0</td>\n",
       "      <td>26.0</td>\n",
       "      <td>4.0</td>\n",
       "      <td>26.0</td>\n",
       "    </tr>\n",
       "    <tr>\n",
       "      <th>4</th>\n",
       "      <td>9dc1a7de274444849c219cff195d0b71</td>\n",
       "      <td>housewares</td>\n",
       "      <td>37.0</td>\n",
       "      <td>402.0</td>\n",
       "      <td>4.0</td>\n",
       "      <td>625.0</td>\n",
       "      <td>20.0</td>\n",
       "      <td>17.0</td>\n",
       "      <td>13.0</td>\n",
       "    </tr>\n",
       "  </tbody>\n",
       "</table>\n",
       "</div>"
      ],
      "text/plain": [
       "                         product_id product_category_name  \\\n",
       "0  1e9e8ef04dbcff4541ed26657ea517e5             perfumery   \n",
       "1  3aa071139cb16b67ca9e5dea641aaa2f                   art   \n",
       "2  96bd76ec8810374ed1b65e291975717f        sports_leisure   \n",
       "3  cef67bcfe19066a932b7673e239eb23d                  baby   \n",
       "4  9dc1a7de274444849c219cff195d0b71            housewares   \n",
       "\n",
       "   product_name_lenght  product_description_lenght  product_photos_qty  \\\n",
       "0                 40.0                       287.0                 1.0   \n",
       "1                 44.0                       276.0                 1.0   \n",
       "2                 46.0                       250.0                 1.0   \n",
       "3                 27.0                       261.0                 1.0   \n",
       "4                 37.0                       402.0                 4.0   \n",
       "\n",
       "   product_weight_g  product_length_cm  product_height_cm  product_width_cm  \n",
       "0             225.0               16.0               10.0              14.0  \n",
       "1            1000.0               30.0               18.0              20.0  \n",
       "2             154.0               18.0                9.0              15.0  \n",
       "3             371.0               26.0                4.0              26.0  \n",
       "4             625.0               20.0               17.0              13.0  "
      ]
     },
     "execution_count": 50,
     "metadata": {},
     "output_type": "execute_result"
    }
   ],
   "source": [
    "df_productss = pd.merge(df_products, df_product_category_name, how= \"left\", on= \"product_category_name\")\n",
    "df_productss['product_category_name'] = df_productss['product_category_name_english']\n",
    "df_productss.drop(columns = 'product_category_name_english', inplace = True)\n",
    "df_productss.head()"
   ]
  },
  {
   "cell_type": "code",
   "execution_count": 53,
   "id": "7fbe55a1",
   "metadata": {},
   "outputs": [
    {
     "data": {
      "text/plain": [
       "product_id                      0\n",
       "product_category_name           0\n",
       "product_name_lenght           610\n",
       "product_description_lenght    610\n",
       "product_photos_qty            610\n",
       "product_weight_g                2\n",
       "product_length_cm               2\n",
       "product_height_cm               2\n",
       "product_width_cm                2\n",
       "dtype: int64"
      ]
     },
     "execution_count": 53,
     "metadata": {},
     "output_type": "execute_result"
    }
   ],
   "source": [
    "df_productss.isnull().sum()"
   ]
  },
  {
   "cell_type": "code",
   "execution_count": 54,
   "id": "789c8dc5",
   "metadata": {},
   "outputs": [
    {
     "name": "stdout",
     "output_type": "stream",
     "text": [
      "<class 'pandas.core.frame.DataFrame'>\n",
      "Int64Index: 117329 entries, 0 to 117328\n",
      "Data columns (total 39 columns):\n",
      " #   Column                         Non-Null Count   Dtype  \n",
      "---  ------                         --------------   -----  \n",
      " 0   order_id                       117329 non-null  object \n",
      " 1   customer_id                    117329 non-null  object \n",
      " 2   order_status                   117329 non-null  object \n",
      " 3   order_purchase_timestamp       117329 non-null  object \n",
      " 4   order_approved_at              117314 non-null  object \n",
      " 5   order_delivered_carrier_date   116094 non-null  object \n",
      " 6   order_delivered_customer_date  114858 non-null  object \n",
      " 7   order_estimated_delivery_date  117329 non-null  object \n",
      " 8   customer_unique_id             117329 non-null  object \n",
      " 9   customer_zip_code_prefix       117329 non-null  int64  \n",
      " 10  customer_city                  117329 non-null  object \n",
      " 11  customer_state                 117329 non-null  object \n",
      " 12  order_item_id                  117329 non-null  int64  \n",
      " 13  product_id                     117329 non-null  object \n",
      " 14  seller_id                      117329 non-null  object \n",
      " 15  shipping_limit_date            117329 non-null  object \n",
      " 16  price                          117329 non-null  float64\n",
      " 17  freight_value                  117329 non-null  float64\n",
      " 18  product_category_name          117329 non-null  object \n",
      " 19  product_name_lenght            115634 non-null  float64\n",
      " 20  product_description_lenght     115634 non-null  float64\n",
      " 21  product_photos_qty             115634 non-null  float64\n",
      " 22  product_weight_g               117309 non-null  float64\n",
      " 23  product_length_cm              117309 non-null  float64\n",
      " 24  product_height_cm              117309 non-null  float64\n",
      " 25  product_width_cm               117309 non-null  float64\n",
      " 26  payment_sequential             117329 non-null  int64  \n",
      " 27  payment_type                   117329 non-null  object \n",
      " 28  payment_installments           117329 non-null  int64  \n",
      " 29  payment_value                  117329 non-null  float64\n",
      " 30  seller_zip_code_prefix         117329 non-null  int64  \n",
      " 31  seller_city                    117329 non-null  object \n",
      " 32  seller_state                   117329 non-null  object \n",
      " 33  review_id                      117329 non-null  object \n",
      " 34  review_score                   117329 non-null  int64  \n",
      " 35  review_comment_title           13892 non-null   object \n",
      " 36  review_comment_message         49679 non-null   object \n",
      " 37  review_creation_date           117329 non-null  object \n",
      " 38  review_answer_timestamp        117329 non-null  object \n",
      "dtypes: float64(10), int64(6), object(23)\n",
      "memory usage: 35.8+ MB\n"
     ]
    }
   ],
   "source": [
    "data = df_orders.merge(df_customers, on=\"customer_id\").merge(df_orderitems, on=\"order_id\").merge(df_productss, on=\"product_id\").merge(df_orderpayments, on=\"order_id\").merge(df_sellers, on=\"seller_id\").merge(df_orderreviews, on=\"order_id\")\n",
    "data.info()"
   ]
  },
  {
   "cell_type": "code",
   "execution_count": 55,
   "id": "4276b48e",
   "metadata": {},
   "outputs": [
    {
     "data": {
      "text/plain": [
       "order_id                              0\n",
       "customer_id                           0\n",
       "order_status                          0\n",
       "order_purchase_timestamp              0\n",
       "order_approved_at                    15\n",
       "order_delivered_carrier_date       1235\n",
       "order_delivered_customer_date      2471\n",
       "order_estimated_delivery_date         0\n",
       "customer_unique_id                    0\n",
       "customer_zip_code_prefix              0\n",
       "customer_city                         0\n",
       "customer_state                        0\n",
       "order_item_id                         0\n",
       "product_id                            0\n",
       "seller_id                             0\n",
       "shipping_limit_date                   0\n",
       "price                                 0\n",
       "freight_value                         0\n",
       "product_category_name                 0\n",
       "product_name_lenght                1695\n",
       "product_description_lenght         1695\n",
       "product_photos_qty                 1695\n",
       "product_weight_g                     20\n",
       "product_length_cm                    20\n",
       "product_height_cm                    20\n",
       "product_width_cm                     20\n",
       "payment_sequential                    0\n",
       "payment_type                          0\n",
       "payment_installments                  0\n",
       "payment_value                         0\n",
       "seller_zip_code_prefix                0\n",
       "seller_city                           0\n",
       "seller_state                          0\n",
       "review_id                             0\n",
       "review_score                          0\n",
       "review_comment_title             103437\n",
       "review_comment_message            67650\n",
       "review_creation_date                  0\n",
       "review_answer_timestamp               0\n",
       "dtype: int64"
      ]
     },
     "execution_count": 55,
     "metadata": {},
     "output_type": "execute_result"
    }
   ],
   "source": [
    "data.isnull().sum()"
   ]
  },
  {
   "cell_type": "markdown",
   "id": "8e2b945c",
   "metadata": {},
   "source": [
    "Walaupun terjadi peningkatan missing value pada kolom Product_Name_Length, product_description_length, product_photos_qty, product_weight_gr, product_length_cm, product_height_cm, dan product_didth_cm, missing value tersebut tidak mempengaruhi analisis yang akan dibuat sehingga kami tetap biarkan."
   ]
  },
  {
   "cell_type": "code",
   "execution_count": 63,
   "id": "7e19bab1",
   "metadata": {},
   "outputs": [
    {
     "name": "stdout",
     "output_type": "stream",
     "text": [
      "<class 'pandas.core.frame.DataFrame'>\n",
      "Int64Index: 117329 entries, 0 to 117328\n",
      "Data columns (total 39 columns):\n",
      " #   Column                         Non-Null Count   Dtype  \n",
      "---  ------                         --------------   -----  \n",
      " 0   order_id                       117329 non-null  object \n",
      " 1   customer_id                    117329 non-null  object \n",
      " 2   order_status                   117329 non-null  object \n",
      " 3   order_purchase_timestamp       117329 non-null  object \n",
      " 4   order_approved_at              117314 non-null  object \n",
      " 5   order_delivered_carrier_date   116094 non-null  object \n",
      " 6   order_delivered_customer_date  114858 non-null  object \n",
      " 7   order_estimated_delivery_date  117329 non-null  object \n",
      " 8   customer_unique_id             117329 non-null  object \n",
      " 9   customer_zip_code_prefix       117329 non-null  int64  \n",
      " 10  customer_city                  117329 non-null  object \n",
      " 11  customer_state                 117329 non-null  object \n",
      " 12  order_item_id                  117329 non-null  int64  \n",
      " 13  product_id                     117329 non-null  object \n",
      " 14  seller_id                      117329 non-null  object \n",
      " 15  shipping_limit_date            117329 non-null  object \n",
      " 16  price                          117329 non-null  float64\n",
      " 17  freight_value                  117329 non-null  float64\n",
      " 18  product_category_name          117329 non-null  object \n",
      " 19  product_name_lenght            115634 non-null  float64\n",
      " 20  product_description_lenght     115634 non-null  float64\n",
      " 21  product_photos_qty             115634 non-null  float64\n",
      " 22  product_weight_g               117309 non-null  float64\n",
      " 23  product_length_cm              117309 non-null  float64\n",
      " 24  product_height_cm              117309 non-null  float64\n",
      " 25  product_width_cm               117309 non-null  float64\n",
      " 26  payment_sequential             117329 non-null  int64  \n",
      " 27  payment_type                   117329 non-null  object \n",
      " 28  payment_installments           117329 non-null  int64  \n",
      " 29  payment_value                  117329 non-null  float64\n",
      " 30  seller_zip_code_prefix         117329 non-null  int64  \n",
      " 31  seller_city                    117329 non-null  object \n",
      " 32  seller_state                   117329 non-null  object \n",
      " 33  review_id                      117329 non-null  object \n",
      " 34  review_score                   117329 non-null  int64  \n",
      " 35  review_comment_title           13892 non-null   object \n",
      " 36  review_comment_message         49679 non-null   object \n",
      " 37  review_creation_date           117329 non-null  object \n",
      " 38  review_answer_timestamp        117329 non-null  object \n",
      "dtypes: float64(10), int64(6), object(23)\n",
      "memory usage: 35.8+ MB\n"
     ]
    }
   ],
   "source": [
    "data.info()"
   ]
  },
  {
   "cell_type": "markdown",
   "id": "47ac3852",
   "metadata": {},
   "source": [
    "### 4. Data Analysis"
   ]
  },
  {
   "cell_type": "code",
   "execution_count": 56,
   "id": "93997995",
   "metadata": {},
   "outputs": [],
   "source": [
    "data['order_purchase_timestamp'] = pd.to_datetime(data['order_purchase_timestamp'])\n",
    "data['order_purchase_date'] = data['order_purchase_timestamp'].dt.strftime('%Y-%m-%d')\n",
    "data['order_purchase_date'] = pd.to_datetime(data['order_purchase_date'])"
   ]
  },
  {
   "cell_type": "code",
   "execution_count": 57,
   "id": "e229e09a",
   "metadata": {},
   "outputs": [
    {
     "data": {
      "text/plain": [
       "order_purchase_timestamp\n",
       "2016-09       3\n",
       "2016-10     379\n",
       "2016-12       1\n",
       "2017-01    1011\n",
       "2017-02    2058\n",
       "2017-03    3174\n",
       "2017-04    2841\n",
       "2017-05    4404\n",
       "2017-06    3794\n",
       "2017-07    4848\n",
       "2017-08    5163\n",
       "2017-09    5096\n",
       "2017-10    5564\n",
       "2017-11    9014\n",
       "2017-12    6521\n",
       "2018-01    8523\n",
       "2018-02    7944\n",
       "2018-03    8518\n",
       "2018-04    8202\n",
       "2018-05    8181\n",
       "2018-06    7355\n",
       "2018-07    7300\n",
       "2018-08    7434\n",
       "2018-09       1\n",
       "Freq: M, Name: order_id, dtype: int64"
      ]
     },
     "execution_count": 57,
     "metadata": {},
     "output_type": "execute_result"
    }
   ],
   "source": [
    "data['year'] = data['order_purchase_date'].dt.year\n",
    "data['month'] = data['order_purchase_date'].dt.strftime('%b')\n",
    "data['day'] = data['order_purchase_date'].dt.day\n",
    "data.groupby(data['order_purchase_timestamp'].dt.to_period('M')).count()['order_id']"
   ]
  },
  {
   "cell_type": "markdown",
   "id": "e63e5414",
   "metadata": {},
   "source": [
    "Penggunaan data kami batasi dari Januari 2017 sampai Agustus 2018 karena kurangnya data di luar batas tersebut."
   ]
  },
  {
   "cell_type": "code",
   "execution_count": 58,
   "id": "e4de6e70",
   "metadata": {},
   "outputs": [
    {
     "data": {
      "image/png": "[encoded data removed]",
      "text/plain": [
       "<Figure size 1080x432 with 1 Axes>"
      ]
     },
     "metadata": {
      "needs_background": "light"
     },
     "output_type": "display_data"
    }
   ],
   "source": [
    "data2 = data.drop(data[((data['month'] == 'Sep')) & (data['year'] == 2018)].index)\n",
    "data2 = data2.drop(data2[data2['year'] == 2016].index)\n",
    "data2['order_purchase_timestamp'] = pd.to_datetime(data2['order_purchase_timestamp'])\n",
    "data2.groupby(data2['order_purchase_timestamp'].dt.to_period('M')).count()['order_id'].plot(figsize=(15,6))\n",
    "plt.title('Total Order by Month', size = 'xx-large')\n",
    "plt.xlabel('Order Date')\n",
    "plt.ylabel('Total Order')\n",
    "plt.show()"
   ]
  },
  {
   "cell_type": "markdown",
   "id": "439258ca",
   "metadata": {},
   "source": [
    "Sejak Januari 2017, jumlah order terus meningkat sampai puncaknya terjadi pada November 2017. Hal ini dikarenakan masyarakat Brazil merayakan Thanksgiving dan Black Friday. Ketika Black Friday masyarakat yang merayakan Natal akan membeli barang untuk persiapan dan kado Natal. Pada Desember 2017 jumlah transaksi menurun karena masyarakat tidak lagi banyak melakukan transaksi sebab sudah dilakukan pada Black Friday. Namun setelah itu jumlah order mengalami sideways (jumlah order tidak naik maupun turun). Selanjutnya kami akan coba lihat berdasarkan review score."
   ]
  },
  {
   "cell_type": "code",
   "execution_count": 65,
   "id": "faf6d704",
   "metadata": {},
   "outputs": [
    {
     "data": {
      "image/png": "[encoded data removed]",
      "text/plain": [
       "<Figure size 1296x576 with 1 Axes>"
      ]
     },
     "metadata": {},
     "output_type": "display_data"
    }
   ],
   "source": [
    "data2['order_purchase_day'] = data2['order_purchase_timestamp'].dt.day_name()\n",
    "data2['order_purchase_day'] = pd.Categorical(data2['order_purchase_day'], categories=\n",
    "    ['Monday','Tuesday','Wednesday','Thursday','Friday','Saturday', 'Sunday'],\n",
    "    ordered=True)\n",
    "reOrder_days = data2['order_purchase_day'].value_counts()\n",
    "reOrder_days = reOrder_days.sort_index()\n",
    "reOrder_days = data2['order_purchase_day'].value_counts().reset_index()\n",
    "reOrder_days.columns = ['order_purchase_day', 'count']\n",
    "days = ['Monday','Tuesday','Wednesday','Thursday','Friday','Saturday', 'Sunday']\n",
    "mapping = {day: i for i, day in enumerate(days)}\n",
    "key = reOrder_days['order_purchase_day'].map(mapping)\n",
    "reOrder_days\n",
    "\n",
    "plt.style.use('seaborn')\n",
    "plt.figure(figsize = (18, 8))\n",
    "plt.title('Total Order by Days', size = 'xx-large')\n",
    "ax = sns.barplot(x='order_purchase_day', y='count',\n",
    "                 data=reOrder_days,\n",
    "                 errwidth=0, color='#69d'\n",
    "                 )\n",
    "ax.bar_label(ax.containers[0])\n",
    "plt.xlabel('Day')\n",
    "plt.ylabel('Total Order')\n",
    "plt.grid(True)\n",
    "plt.show()"
   ]
  },
  {
   "cell_type": "markdown",
   "id": "75e6d0fd",
   "metadata": {},
   "source": [
    "Dari plot di atas terlihat jumlah order ketika weekend mengalami penurunan. Salah satu penyebab masyarakat tidak berbelanja di online store karena tidak semua toko menjalankan operasional pada weekend. Selain itu masyarakat lebih memilih aktivitas di luar belanja pada weekend untuk melepas penat dari keseharian bekerja saat weekdays. Jika memang ingin berbelanja pada saat weekend, masyarakat tentu akan lebih memilih ke offline store karena salah satu kelebihan dari offline store adalah dapat membandingkan kualitas barang secara langsung. Pergi ke offline store dapat menjadi salah satu kesempatan untuk berkumpul bersama keluarga dan/atau teman."
   ]
  },
  {
   "cell_type": "code",
   "execution_count": 66,
   "id": "98718b5d",
   "metadata": {
    "scrolled": true
   },
   "outputs": [
    {
     "data": {
      "image/png": "[encoded data removed]",
      "text/plain": [
       "<Figure size 1296x576 with 1 Axes>"
      ]
     },
     "metadata": {},
     "output_type": "display_data"
    }
   ],
   "source": [
    "plt.figure(figsize=(18,8))\n",
    "data2['order_purchase_hour'] = data2['order_purchase_timestamp'].dt.strftime('%H')\n",
    "data2.groupby('order_purchase_hour')['order_purchase_hour'].count().plot(kind = 'bar')\n",
    "plt.title('Total Order by Hour', size = 'xx-large')\n",
    "plt.xlabel('Hour')\n",
    "plt.ylabel('Total Order')\n",
    "plt.show()"
   ]
  },
  {
   "cell_type": "markdown",
   "id": "99da23cd",
   "metadata": {},
   "source": [
    "Dari plot di atas terlihat order banyak terjadi dari pukul 10 pagi sampai dengan pukul 22 malam."
   ]
  },
  {
   "cell_type": "markdown",
   "id": "04338af7",
   "metadata": {},
   "source": [
    "#### Delivery Analysis"
   ]
  },
  {
   "cell_type": "code",
   "execution_count": 60,
   "id": "5672b22c",
   "metadata": {},
   "outputs": [],
   "source": [
    "data2['order_purchase_timestamp'] = pd.to_datetime(data['order_purchase_timestamp'])\n",
    "data2['order_approved_at'] = pd.to_datetime(data['order_approved_at'])\n",
    "data2['order_delivered_carrier_date'] = pd.to_datetime(data['order_delivered_carrier_date'])\n",
    "data2['order_delivered_customer_date'] = pd.to_datetime(data['order_delivered_customer_date'])\n",
    "data2['order_estimated_delivery_date'] = pd.to_datetime(data['order_estimated_delivery_date'])\n",
    "df_deliv_gap = data2[['order_id','order_status','order_purchase_timestamp']].copy()\n",
    "df_deliv_gap['seller_cfmed'] = round((data2['order_approved_at'] - data2['order_purchase_timestamp'])/np.timedelta64(1, 'h'),2)\n",
    "df_deliv_gap['seller_to_carrier'] = round((data2['order_delivered_carrier_date'] - data2['order_approved_at'])/np.timedelta64(1, 'h'),2)\n",
    "df_deliv_gap['carrier_to_buyer'] = round((data2['order_delivered_customer_date'] - data2['order_delivered_carrier_date'])/np.timedelta64(1, 'h'),2)\n",
    "df_deliv_gap['cfmed_to_carrier'] = round((data2['order_delivered_carrier_date'] - data2['order_purchase_timestamp'])/np.timedelta64(1, 'h'),2)\n",
    "df_deliv_gap['month_year'] = df_deliv_gap['order_purchase_timestamp'].dt.to_period('M')\n",
    "\n",
    "df_deliv_gap['seller_to_carrier_day'] = df_deliv_gap['seller_to_carrier']/24\n",
    "df_deliv_gap['carrier_to_buyer_day'] = df_deliv_gap['carrier_to_buyer']/24"
   ]
  },
  {
   "cell_type": "code",
   "execution_count": 61,
   "id": "a7289380",
   "metadata": {},
   "outputs": [
    {
     "data": {
      "image/png": "[encoded data removed]",
      "text/plain": [
       "<Figure size 1296x360 with 3 Axes>"
      ]
     },
     "metadata": {
      "needs_background": "light"
     },
     "output_type": "display_data"
    }
   ],
   "source": [
    "plt.figure(figsize=(18,5))\n",
    "plt.subplot(131)\n",
    "df_deliv_gap.groupby('month_year').mean()['seller_cfmed'].plot(xlabel = 'Seller Confirmed',ylabel='Hours')\n",
    "plt.subplot(132)\n",
    "df_deliv_gap.groupby('month_year').mean()['seller_to_carrier_day'].plot(xlabel = 'Seller to Carrier', ylabel='Days')\n",
    "plt.subplot(133)\n",
    "df_deliv_gap.groupby('month_year').mean()['carrier_to_buyer_day'].plot(xlabel = 'Carrier to Buyer', ylabel='Days')\n",
    "plt.show()"
   ]
  },
  {
   "cell_type": "markdown",
   "id": "9e767671",
   "metadata": {},
   "source": [
    "Sebelumnya telah ditunjukkan bahwa terjadi peningkatan pembelian pada bulan November 2017. Jika dilihat dari plot Seller Confirmed waktu yang dibutuhkan seller untuk mengonfirmasi pesanan adalah kurang dari satu hari. Hal ini menandakan jumlah pesanan tidak memengaruhi seller dalam mengonfirmasi pesanan.\n",
    "\n",
    "Sedangkan pada plot Seller to Carrier waktu yang dibutuhkan seller dari pesanan dikonfirmasi hingga kurir berangkat meningkat ketika jumlah pesanan meningkat. Hal ini terjadi karena baik seller maupun kurir memiliki kuota minimal untuk memberangkatkan pesanan. Rata-rata waktu yang dibutuhkan juga terlalu lama karena customer harus menunggu kurang lebih tiga hari setelah seller mengonfirmasi pesanan. Jumlah order setelah bulan Maret 2018 yang mengalami sideways bisa jadi disebabkan oleh berkurangnya kepercayaan customer kepada Olist Store. Namun, pada bulan April 2018 lama waktu yang dibutuhkan terlihat menurun, hal ini bisa saja disebabkan karena baik seller maupun kurir sudah dapat beradaptasi dengan jumlah order yang tinggi. Hal yang sama juga terjadi untuk plot Carrier to Buyer lamanya waktu pengiriman meningkat ketika jumlah pesanan meningkat. Dari plot terlihat bahwa rata-rata lama proses pengiriman ke customer memakan waktu lebih dari seminggu. Oleh karena itu, dapat disimpulkan keterlambatan disebabkan oleh kurir.\n",
    "\n",
    "Ketiga plot di atas membuktikan bahwa memang terjadi masalah dalam pengiriman barang di Olist Store sesuai dengan banyaknya kata yang muncul pada review yang bernilai 1 dan 2. Masalah ini juga menjadi salah satu alasan mengapa jumlah order mengalami sideways setelah bulan November 2017. Namun, pada bulan April 2018 lama waktu yang dibutuhkan terlihat menurun tetapi jumlah order tidak menurun (sideways), hal ini bisa saja disebabkan karena baik seller maupun kurir sudah dapat beradaptasi dengan jumlah order yang tinggi, tetapi customer telah berkurang kepercayaannya."
   ]
  },
  {
   "cell_type": "code",
   "execution_count": null,
   "id": "2831ade6",
   "metadata": {},
   "outputs": [],
   "source": []
  }
 ],
 "metadata": {
  "kernelspec": {
   "display_name": "Python 3 (ipykernel)",
   "language": "python",
   "name": "python3"
  },
  "language_info": {
   "codemirror_mode": {
    "name": "ipython",
    "version": 3
   },
   "file_extension": ".py",
   "mimetype": "text/x-python",
   "name": "python",
   "nbconvert_exporter": "python",
   "pygments_lexer": "ipython3",
   "version": "3.9.12"
  }
 },
 "nbformat": 4,
 "nbformat_minor": 5
}
